{
  "nbformat": 4,
  "nbformat_minor": 0,
  "metadata": {
    "colab": {
      "name": "PythonDataExploration.ipynb",
      "provenance": [],
      "collapsed_sections": [],
      "authorship_tag": "ABX9TyN84Ez9p3/44CkXJYD4FRR6",
      "include_colab_link": true
    },
    "kernelspec": {
      "name": "python3",
      "display_name": "Python 3"
    },
    "language_info": {
      "name": "python"
    }
  },
  "cells": [
    {
      "cell_type": "markdown",
      "metadata": {
        "id": "view-in-github",
        "colab_type": "text"
      },
      "source": [
        "<a href=\"https://colab.research.google.com/github/Binod-budathoki/Analyzing_selling_price_of_used_cars/blob/main/PythonDataExploration.ipynb\" target=\"_parent\"><img src=\"https://colab.research.google.com/assets/colab-badge.svg\" alt=\"Open In Colab\"/></a>"
      ]
    },
    {
      "cell_type": "code",
      "metadata": {
        "colab": {
          "base_uri": "https://localhost:8080/"
        },
        "id": "v7ek5A92VwfS",
        "outputId": "697995b4-c857-42a8-ec28-70f7dd152f30"
      },
      "source": [
        "from google.colab import drive\n",
        "drive.mount('/content/drive')\n"
      ],
      "execution_count": 1,
      "outputs": [
        {
          "output_type": "stream",
          "text": [
            "Mounted at /content/drive\n"
          ],
          "name": "stdout"
        }
      ]
    },
    {
      "cell_type": "code",
      "metadata": {
        "id": "Oeq-7hztWL-Q"
      },
      "source": [
        "import pandas as pd"
      ],
      "execution_count": 2,
      "outputs": []
    },
    {
      "cell_type": "code",
      "metadata": {
        "id": "6RJP1z0KWMbA"
      },
      "source": [
        "df = pd.read_csv('/content/drive/MyDrive/Colab Notebooks/Automobile_data.csv', header = None)"
      ],
      "execution_count": 3,
      "outputs": []
    },
    {
      "cell_type": "code",
      "metadata": {
        "colab": {
          "base_uri": "https://localhost:8080/",
          "height": 309
        },
        "id": "qSgnEPcQWw--",
        "outputId": "530a4351-8839-44a0-db86-dd729b8fb9c7"
      },
      "source": [
        "df.head()"
      ],
      "execution_count": 4,
      "outputs": [
        {
          "output_type": "execute_result",
          "data": {
            "text/html": [
              "<div>\n",
              "<style scoped>\n",
              "    .dataframe tbody tr th:only-of-type {\n",
              "        vertical-align: middle;\n",
              "    }\n",
              "\n",
              "    .dataframe tbody tr th {\n",
              "        vertical-align: top;\n",
              "    }\n",
              "\n",
              "    .dataframe thead th {\n",
              "        text-align: right;\n",
              "    }\n",
              "</style>\n",
              "<table border=\"1\" class=\"dataframe\">\n",
              "  <thead>\n",
              "    <tr style=\"text-align: right;\">\n",
              "      <th></th>\n",
              "      <th>0</th>\n",
              "      <th>1</th>\n",
              "      <th>2</th>\n",
              "      <th>3</th>\n",
              "      <th>4</th>\n",
              "      <th>5</th>\n",
              "      <th>6</th>\n",
              "      <th>7</th>\n",
              "      <th>8</th>\n",
              "      <th>9</th>\n",
              "      <th>10</th>\n",
              "      <th>11</th>\n",
              "      <th>12</th>\n",
              "      <th>13</th>\n",
              "      <th>14</th>\n",
              "      <th>15</th>\n",
              "      <th>16</th>\n",
              "      <th>17</th>\n",
              "      <th>18</th>\n",
              "      <th>19</th>\n",
              "      <th>20</th>\n",
              "      <th>21</th>\n",
              "      <th>22</th>\n",
              "      <th>23</th>\n",
              "      <th>24</th>\n",
              "      <th>25</th>\n",
              "    </tr>\n",
              "  </thead>\n",
              "  <tbody>\n",
              "    <tr>\n",
              "      <th>0</th>\n",
              "      <td>symboling</td>\n",
              "      <td>normalized-losses</td>\n",
              "      <td>make</td>\n",
              "      <td>fuel-type</td>\n",
              "      <td>aspiration</td>\n",
              "      <td>num-of-doors</td>\n",
              "      <td>body-style</td>\n",
              "      <td>drive-wheels</td>\n",
              "      <td>engine-location</td>\n",
              "      <td>wheel-base</td>\n",
              "      <td>length</td>\n",
              "      <td>width</td>\n",
              "      <td>height</td>\n",
              "      <td>curb-weight</td>\n",
              "      <td>engine-type</td>\n",
              "      <td>num-of-cylinders</td>\n",
              "      <td>engine-size</td>\n",
              "      <td>fuel-system</td>\n",
              "      <td>bore</td>\n",
              "      <td>stroke</td>\n",
              "      <td>compression-ratio</td>\n",
              "      <td>horsepower</td>\n",
              "      <td>peak-rpm</td>\n",
              "      <td>city-mpg</td>\n",
              "      <td>highway-mpg</td>\n",
              "      <td>price</td>\n",
              "    </tr>\n",
              "    <tr>\n",
              "      <th>1</th>\n",
              "      <td>3</td>\n",
              "      <td>?</td>\n",
              "      <td>alfa-romero</td>\n",
              "      <td>gas</td>\n",
              "      <td>std</td>\n",
              "      <td>two</td>\n",
              "      <td>convertible</td>\n",
              "      <td>rwd</td>\n",
              "      <td>front</td>\n",
              "      <td>88.6</td>\n",
              "      <td>168.8</td>\n",
              "      <td>64.1</td>\n",
              "      <td>48.8</td>\n",
              "      <td>2548</td>\n",
              "      <td>dohc</td>\n",
              "      <td>four</td>\n",
              "      <td>130</td>\n",
              "      <td>mpfi</td>\n",
              "      <td>3.47</td>\n",
              "      <td>2.68</td>\n",
              "      <td>9</td>\n",
              "      <td>111</td>\n",
              "      <td>5000</td>\n",
              "      <td>21</td>\n",
              "      <td>27</td>\n",
              "      <td>13495</td>\n",
              "    </tr>\n",
              "    <tr>\n",
              "      <th>2</th>\n",
              "      <td>3</td>\n",
              "      <td>?</td>\n",
              "      <td>alfa-romero</td>\n",
              "      <td>gas</td>\n",
              "      <td>std</td>\n",
              "      <td>two</td>\n",
              "      <td>convertible</td>\n",
              "      <td>rwd</td>\n",
              "      <td>front</td>\n",
              "      <td>88.6</td>\n",
              "      <td>168.8</td>\n",
              "      <td>64.1</td>\n",
              "      <td>48.8</td>\n",
              "      <td>2548</td>\n",
              "      <td>dohc</td>\n",
              "      <td>four</td>\n",
              "      <td>130</td>\n",
              "      <td>mpfi</td>\n",
              "      <td>3.47</td>\n",
              "      <td>2.68</td>\n",
              "      <td>9</td>\n",
              "      <td>111</td>\n",
              "      <td>5000</td>\n",
              "      <td>21</td>\n",
              "      <td>27</td>\n",
              "      <td>16500</td>\n",
              "    </tr>\n",
              "    <tr>\n",
              "      <th>3</th>\n",
              "      <td>1</td>\n",
              "      <td>?</td>\n",
              "      <td>alfa-romero</td>\n",
              "      <td>gas</td>\n",
              "      <td>std</td>\n",
              "      <td>two</td>\n",
              "      <td>hatchback</td>\n",
              "      <td>rwd</td>\n",
              "      <td>front</td>\n",
              "      <td>94.5</td>\n",
              "      <td>171.2</td>\n",
              "      <td>65.5</td>\n",
              "      <td>52.4</td>\n",
              "      <td>2823</td>\n",
              "      <td>ohcv</td>\n",
              "      <td>six</td>\n",
              "      <td>152</td>\n",
              "      <td>mpfi</td>\n",
              "      <td>2.68</td>\n",
              "      <td>3.47</td>\n",
              "      <td>9</td>\n",
              "      <td>154</td>\n",
              "      <td>5000</td>\n",
              "      <td>19</td>\n",
              "      <td>26</td>\n",
              "      <td>16500</td>\n",
              "    </tr>\n",
              "    <tr>\n",
              "      <th>4</th>\n",
              "      <td>2</td>\n",
              "      <td>164</td>\n",
              "      <td>audi</td>\n",
              "      <td>gas</td>\n",
              "      <td>std</td>\n",
              "      <td>four</td>\n",
              "      <td>sedan</td>\n",
              "      <td>fwd</td>\n",
              "      <td>front</td>\n",
              "      <td>99.8</td>\n",
              "      <td>176.6</td>\n",
              "      <td>66.2</td>\n",
              "      <td>54.3</td>\n",
              "      <td>2337</td>\n",
              "      <td>ohc</td>\n",
              "      <td>four</td>\n",
              "      <td>109</td>\n",
              "      <td>mpfi</td>\n",
              "      <td>3.19</td>\n",
              "      <td>3.4</td>\n",
              "      <td>10</td>\n",
              "      <td>102</td>\n",
              "      <td>5500</td>\n",
              "      <td>24</td>\n",
              "      <td>30</td>\n",
              "      <td>13950</td>\n",
              "    </tr>\n",
              "  </tbody>\n",
              "</table>\n",
              "</div>"
            ],
            "text/plain": [
              "          0                  1            2   ...        23           24     25\n",
              "0  symboling  normalized-losses         make  ...  city-mpg  highway-mpg  price\n",
              "1          3                  ?  alfa-romero  ...        21           27  13495\n",
              "2          3                  ?  alfa-romero  ...        21           27  16500\n",
              "3          1                  ?  alfa-romero  ...        19           26  16500\n",
              "4          2                164         audi  ...        24           30  13950\n",
              "\n",
              "[5 rows x 26 columns]"
            ]
          },
          "metadata": {
            "tags": []
          },
          "execution_count": 4
        }
      ]
    },
    {
      "cell_type": "code",
      "metadata": {
        "id": "oH87ocAVbLPv"
      },
      "source": [
        "headerList =[\"symboling\" , \"normalized-losses\" , \"make\" , \"fuel-type\" , \"aspiration\" , \"num-of-doors\" , \"body-style\" , \"drive-wheels\" , \"engine-location\" , \"wheel-base\" , \"length\" , \"width\" , \"height\" , \"curb-weight\" , \"engine-type\" , \"num-of-cylinders\" , \"engine-size\" , \"fuel-system\" , \"bore\" , \"stroke\" , \"compression-ratio\" , \"horsepower\" , \"peak-rpm\" , \"city-mpg\" , \"highway-mpg\" , \"price\" ]"
      ],
      "execution_count": 5,
      "outputs": []
    },
    {
      "cell_type": "code",
      "metadata": {
        "id": "HahC424nWMgB"
      },
      "source": [
        "df.columns=headerList"
      ],
      "execution_count": 6,
      "outputs": []
    },
    {
      "cell_type": "code",
      "metadata": {
        "colab": {
          "base_uri": "https://localhost:8080/",
          "height": 343
        },
        "id": "nTilAAaqdwLb",
        "outputId": "6718f3c1-9f6d-4458-ccb1-5b961f751caa"
      },
      "source": [
        "df.head(5)"
      ],
      "execution_count": 8,
      "outputs": [
        {
          "output_type": "execute_result",
          "data": {
            "text/html": [
              "<div>\n",
              "<style scoped>\n",
              "    .dataframe tbody tr th:only-of-type {\n",
              "        vertical-align: middle;\n",
              "    }\n",
              "\n",
              "    .dataframe tbody tr th {\n",
              "        vertical-align: top;\n",
              "    }\n",
              "\n",
              "    .dataframe thead th {\n",
              "        text-align: right;\n",
              "    }\n",
              "</style>\n",
              "<table border=\"1\" class=\"dataframe\">\n",
              "  <thead>\n",
              "    <tr style=\"text-align: right;\">\n",
              "      <th></th>\n",
              "      <th>symboling</th>\n",
              "      <th>normalized-losses</th>\n",
              "      <th>make</th>\n",
              "      <th>fuel-type</th>\n",
              "      <th>aspiration</th>\n",
              "      <th>num-of-doors</th>\n",
              "      <th>body-style</th>\n",
              "      <th>drive-wheels</th>\n",
              "      <th>engine-location</th>\n",
              "      <th>wheel-base</th>\n",
              "      <th>length</th>\n",
              "      <th>width</th>\n",
              "      <th>height</th>\n",
              "      <th>curb-weight</th>\n",
              "      <th>engine-type</th>\n",
              "      <th>num-of-cylinders</th>\n",
              "      <th>engine-size</th>\n",
              "      <th>fuel-system</th>\n",
              "      <th>bore</th>\n",
              "      <th>stroke</th>\n",
              "      <th>compression-ratio</th>\n",
              "      <th>horsepower</th>\n",
              "      <th>peak-rpm</th>\n",
              "      <th>city-mpg</th>\n",
              "      <th>highway-mpg</th>\n",
              "      <th>price</th>\n",
              "    </tr>\n",
              "  </thead>\n",
              "  <tbody>\n",
              "    <tr>\n",
              "      <th>0</th>\n",
              "      <td>symboling</td>\n",
              "      <td>normalized-losses</td>\n",
              "      <td>make</td>\n",
              "      <td>fuel-type</td>\n",
              "      <td>aspiration</td>\n",
              "      <td>num-of-doors</td>\n",
              "      <td>body-style</td>\n",
              "      <td>drive-wheels</td>\n",
              "      <td>engine-location</td>\n",
              "      <td>wheel-base</td>\n",
              "      <td>length</td>\n",
              "      <td>width</td>\n",
              "      <td>height</td>\n",
              "      <td>curb-weight</td>\n",
              "      <td>engine-type</td>\n",
              "      <td>num-of-cylinders</td>\n",
              "      <td>engine-size</td>\n",
              "      <td>fuel-system</td>\n",
              "      <td>bore</td>\n",
              "      <td>stroke</td>\n",
              "      <td>compression-ratio</td>\n",
              "      <td>horsepower</td>\n",
              "      <td>peak-rpm</td>\n",
              "      <td>city-mpg</td>\n",
              "      <td>highway-mpg</td>\n",
              "      <td>price</td>\n",
              "    </tr>\n",
              "    <tr>\n",
              "      <th>1</th>\n",
              "      <td>3</td>\n",
              "      <td>?</td>\n",
              "      <td>alfa-romero</td>\n",
              "      <td>gas</td>\n",
              "      <td>std</td>\n",
              "      <td>two</td>\n",
              "      <td>convertible</td>\n",
              "      <td>rwd</td>\n",
              "      <td>front</td>\n",
              "      <td>88.6</td>\n",
              "      <td>168.8</td>\n",
              "      <td>64.1</td>\n",
              "      <td>48.8</td>\n",
              "      <td>2548</td>\n",
              "      <td>dohc</td>\n",
              "      <td>four</td>\n",
              "      <td>130</td>\n",
              "      <td>mpfi</td>\n",
              "      <td>3.47</td>\n",
              "      <td>2.68</td>\n",
              "      <td>9</td>\n",
              "      <td>111</td>\n",
              "      <td>5000</td>\n",
              "      <td>21</td>\n",
              "      <td>27</td>\n",
              "      <td>13495</td>\n",
              "    </tr>\n",
              "    <tr>\n",
              "      <th>2</th>\n",
              "      <td>3</td>\n",
              "      <td>?</td>\n",
              "      <td>alfa-romero</td>\n",
              "      <td>gas</td>\n",
              "      <td>std</td>\n",
              "      <td>two</td>\n",
              "      <td>convertible</td>\n",
              "      <td>rwd</td>\n",
              "      <td>front</td>\n",
              "      <td>88.6</td>\n",
              "      <td>168.8</td>\n",
              "      <td>64.1</td>\n",
              "      <td>48.8</td>\n",
              "      <td>2548</td>\n",
              "      <td>dohc</td>\n",
              "      <td>four</td>\n",
              "      <td>130</td>\n",
              "      <td>mpfi</td>\n",
              "      <td>3.47</td>\n",
              "      <td>2.68</td>\n",
              "      <td>9</td>\n",
              "      <td>111</td>\n",
              "      <td>5000</td>\n",
              "      <td>21</td>\n",
              "      <td>27</td>\n",
              "      <td>16500</td>\n",
              "    </tr>\n",
              "    <tr>\n",
              "      <th>3</th>\n",
              "      <td>1</td>\n",
              "      <td>?</td>\n",
              "      <td>alfa-romero</td>\n",
              "      <td>gas</td>\n",
              "      <td>std</td>\n",
              "      <td>two</td>\n",
              "      <td>hatchback</td>\n",
              "      <td>rwd</td>\n",
              "      <td>front</td>\n",
              "      <td>94.5</td>\n",
              "      <td>171.2</td>\n",
              "      <td>65.5</td>\n",
              "      <td>52.4</td>\n",
              "      <td>2823</td>\n",
              "      <td>ohcv</td>\n",
              "      <td>six</td>\n",
              "      <td>152</td>\n",
              "      <td>mpfi</td>\n",
              "      <td>2.68</td>\n",
              "      <td>3.47</td>\n",
              "      <td>9</td>\n",
              "      <td>154</td>\n",
              "      <td>5000</td>\n",
              "      <td>19</td>\n",
              "      <td>26</td>\n",
              "      <td>16500</td>\n",
              "    </tr>\n",
              "    <tr>\n",
              "      <th>4</th>\n",
              "      <td>2</td>\n",
              "      <td>164</td>\n",
              "      <td>audi</td>\n",
              "      <td>gas</td>\n",
              "      <td>std</td>\n",
              "      <td>four</td>\n",
              "      <td>sedan</td>\n",
              "      <td>fwd</td>\n",
              "      <td>front</td>\n",
              "      <td>99.8</td>\n",
              "      <td>176.6</td>\n",
              "      <td>66.2</td>\n",
              "      <td>54.3</td>\n",
              "      <td>2337</td>\n",
              "      <td>ohc</td>\n",
              "      <td>four</td>\n",
              "      <td>109</td>\n",
              "      <td>mpfi</td>\n",
              "      <td>3.19</td>\n",
              "      <td>3.4</td>\n",
              "      <td>10</td>\n",
              "      <td>102</td>\n",
              "      <td>5500</td>\n",
              "      <td>24</td>\n",
              "      <td>30</td>\n",
              "      <td>13950</td>\n",
              "    </tr>\n",
              "  </tbody>\n",
              "</table>\n",
              "</div>"
            ],
            "text/plain": [
              "   symboling  normalized-losses         make  ...  city-mpg  highway-mpg  price\n",
              "0  symboling  normalized-losses         make  ...  city-mpg  highway-mpg  price\n",
              "1          3                  ?  alfa-romero  ...        21           27  13495\n",
              "2          3                  ?  alfa-romero  ...        21           27  16500\n",
              "3          1                  ?  alfa-romero  ...        19           26  16500\n",
              "4          2                164         audi  ...        24           30  13950\n",
              "\n",
              "[5 rows x 26 columns]"
            ]
          },
          "metadata": {
            "tags": []
          },
          "execution_count": 8
        }
      ]
    },
    {
      "cell_type": "code",
      "metadata": {
        "id": "bKvW1NzBZIFj"
      },
      "source": [
        "#removing the 0th row cause headers were included there\n",
        "df= df.drop([0], axis=0)"
      ],
      "execution_count": 9,
      "outputs": []
    },
    {
      "cell_type": "code",
      "metadata": {
        "colab": {
          "base_uri": "https://localhost:8080/",
          "height": 309
        },
        "id": "mFaL1clQZIMK",
        "outputId": "2617d300-867f-494c-dbb4-cd3706e38965"
      },
      "source": [
        "df.head()"
      ],
      "execution_count": 10,
      "outputs": [
        {
          "output_type": "execute_result",
          "data": {
            "text/html": [
              "<div>\n",
              "<style scoped>\n",
              "    .dataframe tbody tr th:only-of-type {\n",
              "        vertical-align: middle;\n",
              "    }\n",
              "\n",
              "    .dataframe tbody tr th {\n",
              "        vertical-align: top;\n",
              "    }\n",
              "\n",
              "    .dataframe thead th {\n",
              "        text-align: right;\n",
              "    }\n",
              "</style>\n",
              "<table border=\"1\" class=\"dataframe\">\n",
              "  <thead>\n",
              "    <tr style=\"text-align: right;\">\n",
              "      <th></th>\n",
              "      <th>symboling</th>\n",
              "      <th>normalized-losses</th>\n",
              "      <th>make</th>\n",
              "      <th>fuel-type</th>\n",
              "      <th>aspiration</th>\n",
              "      <th>num-of-doors</th>\n",
              "      <th>body-style</th>\n",
              "      <th>drive-wheels</th>\n",
              "      <th>engine-location</th>\n",
              "      <th>wheel-base</th>\n",
              "      <th>length</th>\n",
              "      <th>width</th>\n",
              "      <th>height</th>\n",
              "      <th>curb-weight</th>\n",
              "      <th>engine-type</th>\n",
              "      <th>num-of-cylinders</th>\n",
              "      <th>engine-size</th>\n",
              "      <th>fuel-system</th>\n",
              "      <th>bore</th>\n",
              "      <th>stroke</th>\n",
              "      <th>compression-ratio</th>\n",
              "      <th>horsepower</th>\n",
              "      <th>peak-rpm</th>\n",
              "      <th>city-mpg</th>\n",
              "      <th>highway-mpg</th>\n",
              "      <th>price</th>\n",
              "    </tr>\n",
              "  </thead>\n",
              "  <tbody>\n",
              "    <tr>\n",
              "      <th>1</th>\n",
              "      <td>3</td>\n",
              "      <td>?</td>\n",
              "      <td>alfa-romero</td>\n",
              "      <td>gas</td>\n",
              "      <td>std</td>\n",
              "      <td>two</td>\n",
              "      <td>convertible</td>\n",
              "      <td>rwd</td>\n",
              "      <td>front</td>\n",
              "      <td>88.6</td>\n",
              "      <td>168.8</td>\n",
              "      <td>64.1</td>\n",
              "      <td>48.8</td>\n",
              "      <td>2548</td>\n",
              "      <td>dohc</td>\n",
              "      <td>four</td>\n",
              "      <td>130</td>\n",
              "      <td>mpfi</td>\n",
              "      <td>3.47</td>\n",
              "      <td>2.68</td>\n",
              "      <td>9</td>\n",
              "      <td>111</td>\n",
              "      <td>5000</td>\n",
              "      <td>21</td>\n",
              "      <td>27</td>\n",
              "      <td>13495</td>\n",
              "    </tr>\n",
              "    <tr>\n",
              "      <th>2</th>\n",
              "      <td>3</td>\n",
              "      <td>?</td>\n",
              "      <td>alfa-romero</td>\n",
              "      <td>gas</td>\n",
              "      <td>std</td>\n",
              "      <td>two</td>\n",
              "      <td>convertible</td>\n",
              "      <td>rwd</td>\n",
              "      <td>front</td>\n",
              "      <td>88.6</td>\n",
              "      <td>168.8</td>\n",
              "      <td>64.1</td>\n",
              "      <td>48.8</td>\n",
              "      <td>2548</td>\n",
              "      <td>dohc</td>\n",
              "      <td>four</td>\n",
              "      <td>130</td>\n",
              "      <td>mpfi</td>\n",
              "      <td>3.47</td>\n",
              "      <td>2.68</td>\n",
              "      <td>9</td>\n",
              "      <td>111</td>\n",
              "      <td>5000</td>\n",
              "      <td>21</td>\n",
              "      <td>27</td>\n",
              "      <td>16500</td>\n",
              "    </tr>\n",
              "    <tr>\n",
              "      <th>3</th>\n",
              "      <td>1</td>\n",
              "      <td>?</td>\n",
              "      <td>alfa-romero</td>\n",
              "      <td>gas</td>\n",
              "      <td>std</td>\n",
              "      <td>two</td>\n",
              "      <td>hatchback</td>\n",
              "      <td>rwd</td>\n",
              "      <td>front</td>\n",
              "      <td>94.5</td>\n",
              "      <td>171.2</td>\n",
              "      <td>65.5</td>\n",
              "      <td>52.4</td>\n",
              "      <td>2823</td>\n",
              "      <td>ohcv</td>\n",
              "      <td>six</td>\n",
              "      <td>152</td>\n",
              "      <td>mpfi</td>\n",
              "      <td>2.68</td>\n",
              "      <td>3.47</td>\n",
              "      <td>9</td>\n",
              "      <td>154</td>\n",
              "      <td>5000</td>\n",
              "      <td>19</td>\n",
              "      <td>26</td>\n",
              "      <td>16500</td>\n",
              "    </tr>\n",
              "    <tr>\n",
              "      <th>4</th>\n",
              "      <td>2</td>\n",
              "      <td>164</td>\n",
              "      <td>audi</td>\n",
              "      <td>gas</td>\n",
              "      <td>std</td>\n",
              "      <td>four</td>\n",
              "      <td>sedan</td>\n",
              "      <td>fwd</td>\n",
              "      <td>front</td>\n",
              "      <td>99.8</td>\n",
              "      <td>176.6</td>\n",
              "      <td>66.2</td>\n",
              "      <td>54.3</td>\n",
              "      <td>2337</td>\n",
              "      <td>ohc</td>\n",
              "      <td>four</td>\n",
              "      <td>109</td>\n",
              "      <td>mpfi</td>\n",
              "      <td>3.19</td>\n",
              "      <td>3.4</td>\n",
              "      <td>10</td>\n",
              "      <td>102</td>\n",
              "      <td>5500</td>\n",
              "      <td>24</td>\n",
              "      <td>30</td>\n",
              "      <td>13950</td>\n",
              "    </tr>\n",
              "    <tr>\n",
              "      <th>5</th>\n",
              "      <td>2</td>\n",
              "      <td>164</td>\n",
              "      <td>audi</td>\n",
              "      <td>gas</td>\n",
              "      <td>std</td>\n",
              "      <td>four</td>\n",
              "      <td>sedan</td>\n",
              "      <td>4wd</td>\n",
              "      <td>front</td>\n",
              "      <td>99.4</td>\n",
              "      <td>176.6</td>\n",
              "      <td>66.4</td>\n",
              "      <td>54.3</td>\n",
              "      <td>2824</td>\n",
              "      <td>ohc</td>\n",
              "      <td>five</td>\n",
              "      <td>136</td>\n",
              "      <td>mpfi</td>\n",
              "      <td>3.19</td>\n",
              "      <td>3.4</td>\n",
              "      <td>8</td>\n",
              "      <td>115</td>\n",
              "      <td>5500</td>\n",
              "      <td>18</td>\n",
              "      <td>22</td>\n",
              "      <td>17450</td>\n",
              "    </tr>\n",
              "  </tbody>\n",
              "</table>\n",
              "</div>"
            ],
            "text/plain": [
              "  symboling normalized-losses         make  ... city-mpg highway-mpg  price\n",
              "1         3                 ?  alfa-romero  ...       21          27  13495\n",
              "2         3                 ?  alfa-romero  ...       21          27  16500\n",
              "3         1                 ?  alfa-romero  ...       19          26  16500\n",
              "4         2               164         audi  ...       24          30  13950\n",
              "5         2               164         audi  ...       18          22  17450\n",
              "\n",
              "[5 rows x 26 columns]"
            ]
          },
          "metadata": {
            "tags": []
          },
          "execution_count": 10
        }
      ]
    },
    {
      "cell_type": "code",
      "metadata": {
        "id": "y0U6yHDKZIQm"
      },
      "source": [
        "#Exporting pandas dataframe to CSV\n",
        "path=\"/content/drive/MyDrive/Colab Notebooks/automobile.csv\"\n",
        "df.to_csv(path)"
      ],
      "execution_count": null,
      "outputs": []
    },
    {
      "cell_type": "code",
      "metadata": {
        "colab": {
          "base_uri": "https://localhost:8080/"
        },
        "id": "Opl3SToyZIUX",
        "outputId": "64b15ec0-12c9-47a1-951d-70f32a258878"
      },
      "source": [
        "df.dtypes"
      ],
      "execution_count": null,
      "outputs": [
        {
          "output_type": "execute_result",
          "data": {
            "text/plain": [
              "symboling            object\n",
              "normalized-losses    object\n",
              "make                 object\n",
              "fuel-type            object\n",
              "aspiration           object\n",
              "num-of-doors         object\n",
              "body-style           object\n",
              "drive-wheels         object\n",
              "engine-location      object\n",
              "wheel-base           object\n",
              "length               object\n",
              "width                object\n",
              "height               object\n",
              "curb-weight          object\n",
              "engine-type          object\n",
              "num-of-cylinders     object\n",
              "engine-size          object\n",
              "fuel-system          object\n",
              "bore                 object\n",
              "stroke               object\n",
              "compression-ratio    object\n",
              "horsepower           object\n",
              "peak-rpm             object\n",
              "city-mpg             object\n",
              "highway-mpg          object\n",
              "price                object\n",
              "dtype: object"
            ]
          },
          "metadata": {
            "tags": []
          },
          "execution_count": 11
        }
      ]
    },
    {
      "cell_type": "code",
      "metadata": {
        "colab": {
          "base_uri": "https://localhost:8080/",
          "height": 227
        },
        "id": "E93lUbckUCvp",
        "outputId": "6de4f384-e8a8-4a98-b0a5-0515e54b55b7"
      },
      "source": [
        "df.describe()"
      ],
      "execution_count": 11,
      "outputs": [
        {
          "output_type": "execute_result",
          "data": {
            "text/html": [
              "<div>\n",
              "<style scoped>\n",
              "    .dataframe tbody tr th:only-of-type {\n",
              "        vertical-align: middle;\n",
              "    }\n",
              "\n",
              "    .dataframe tbody tr th {\n",
              "        vertical-align: top;\n",
              "    }\n",
              "\n",
              "    .dataframe thead th {\n",
              "        text-align: right;\n",
              "    }\n",
              "</style>\n",
              "<table border=\"1\" class=\"dataframe\">\n",
              "  <thead>\n",
              "    <tr style=\"text-align: right;\">\n",
              "      <th></th>\n",
              "      <th>symboling</th>\n",
              "      <th>normalized-losses</th>\n",
              "      <th>make</th>\n",
              "      <th>fuel-type</th>\n",
              "      <th>aspiration</th>\n",
              "      <th>num-of-doors</th>\n",
              "      <th>body-style</th>\n",
              "      <th>drive-wheels</th>\n",
              "      <th>engine-location</th>\n",
              "      <th>wheel-base</th>\n",
              "      <th>length</th>\n",
              "      <th>width</th>\n",
              "      <th>height</th>\n",
              "      <th>curb-weight</th>\n",
              "      <th>engine-type</th>\n",
              "      <th>num-of-cylinders</th>\n",
              "      <th>engine-size</th>\n",
              "      <th>fuel-system</th>\n",
              "      <th>bore</th>\n",
              "      <th>stroke</th>\n",
              "      <th>compression-ratio</th>\n",
              "      <th>horsepower</th>\n",
              "      <th>peak-rpm</th>\n",
              "      <th>city-mpg</th>\n",
              "      <th>highway-mpg</th>\n",
              "      <th>price</th>\n",
              "    </tr>\n",
              "  </thead>\n",
              "  <tbody>\n",
              "    <tr>\n",
              "      <th>count</th>\n",
              "      <td>205</td>\n",
              "      <td>205</td>\n",
              "      <td>205</td>\n",
              "      <td>205</td>\n",
              "      <td>205</td>\n",
              "      <td>205</td>\n",
              "      <td>205</td>\n",
              "      <td>205</td>\n",
              "      <td>205</td>\n",
              "      <td>205</td>\n",
              "      <td>205</td>\n",
              "      <td>205</td>\n",
              "      <td>205</td>\n",
              "      <td>205</td>\n",
              "      <td>205</td>\n",
              "      <td>205</td>\n",
              "      <td>205</td>\n",
              "      <td>205</td>\n",
              "      <td>205</td>\n",
              "      <td>205</td>\n",
              "      <td>205</td>\n",
              "      <td>205</td>\n",
              "      <td>205</td>\n",
              "      <td>205</td>\n",
              "      <td>205</td>\n",
              "      <td>205</td>\n",
              "    </tr>\n",
              "    <tr>\n",
              "      <th>unique</th>\n",
              "      <td>6</td>\n",
              "      <td>52</td>\n",
              "      <td>22</td>\n",
              "      <td>2</td>\n",
              "      <td>2</td>\n",
              "      <td>3</td>\n",
              "      <td>5</td>\n",
              "      <td>3</td>\n",
              "      <td>2</td>\n",
              "      <td>53</td>\n",
              "      <td>75</td>\n",
              "      <td>44</td>\n",
              "      <td>49</td>\n",
              "      <td>171</td>\n",
              "      <td>7</td>\n",
              "      <td>7</td>\n",
              "      <td>44</td>\n",
              "      <td>8</td>\n",
              "      <td>39</td>\n",
              "      <td>37</td>\n",
              "      <td>32</td>\n",
              "      <td>60</td>\n",
              "      <td>24</td>\n",
              "      <td>29</td>\n",
              "      <td>30</td>\n",
              "      <td>187</td>\n",
              "    </tr>\n",
              "    <tr>\n",
              "      <th>top</th>\n",
              "      <td>0</td>\n",
              "      <td>?</td>\n",
              "      <td>toyota</td>\n",
              "      <td>gas</td>\n",
              "      <td>std</td>\n",
              "      <td>four</td>\n",
              "      <td>sedan</td>\n",
              "      <td>fwd</td>\n",
              "      <td>front</td>\n",
              "      <td>94.5</td>\n",
              "      <td>157.3</td>\n",
              "      <td>63.8</td>\n",
              "      <td>50.8</td>\n",
              "      <td>2385</td>\n",
              "      <td>ohc</td>\n",
              "      <td>four</td>\n",
              "      <td>92</td>\n",
              "      <td>mpfi</td>\n",
              "      <td>3.62</td>\n",
              "      <td>3.4</td>\n",
              "      <td>9</td>\n",
              "      <td>68</td>\n",
              "      <td>5500</td>\n",
              "      <td>31</td>\n",
              "      <td>25</td>\n",
              "      <td>?</td>\n",
              "    </tr>\n",
              "    <tr>\n",
              "      <th>freq</th>\n",
              "      <td>67</td>\n",
              "      <td>41</td>\n",
              "      <td>32</td>\n",
              "      <td>185</td>\n",
              "      <td>168</td>\n",
              "      <td>114</td>\n",
              "      <td>96</td>\n",
              "      <td>120</td>\n",
              "      <td>202</td>\n",
              "      <td>21</td>\n",
              "      <td>15</td>\n",
              "      <td>24</td>\n",
              "      <td>14</td>\n",
              "      <td>4</td>\n",
              "      <td>148</td>\n",
              "      <td>159</td>\n",
              "      <td>15</td>\n",
              "      <td>94</td>\n",
              "      <td>23</td>\n",
              "      <td>20</td>\n",
              "      <td>46</td>\n",
              "      <td>19</td>\n",
              "      <td>37</td>\n",
              "      <td>28</td>\n",
              "      <td>19</td>\n",
              "      <td>4</td>\n",
              "    </tr>\n",
              "  </tbody>\n",
              "</table>\n",
              "</div>"
            ],
            "text/plain": [
              "       symboling normalized-losses    make  ... city-mpg highway-mpg price\n",
              "count        205               205     205  ...      205         205   205\n",
              "unique         6                52      22  ...       29          30   187\n",
              "top            0                 ?  toyota  ...       31          25     ?\n",
              "freq          67                41      32  ...       28          19     4\n",
              "\n",
              "[4 rows x 26 columns]"
            ]
          },
          "metadata": {
            "tags": []
          },
          "execution_count": 11
        }
      ]
    },
    {
      "cell_type": "code",
      "metadata": {
        "colab": {
          "base_uri": "https://localhost:8080/",
          "height": 227
        },
        "id": "7wD6_upsUC1M",
        "outputId": "769eaf7e-1884-4ad6-98b1-0651e089f921"
      },
      "source": [
        "df.describe(include=\"all\")"
      ],
      "execution_count": null,
      "outputs": [
        {
          "output_type": "execute_result",
          "data": {
            "text/html": [
              "<div>\n",
              "<style scoped>\n",
              "    .dataframe tbody tr th:only-of-type {\n",
              "        vertical-align: middle;\n",
              "    }\n",
              "\n",
              "    .dataframe tbody tr th {\n",
              "        vertical-align: top;\n",
              "    }\n",
              "\n",
              "    .dataframe thead th {\n",
              "        text-align: right;\n",
              "    }\n",
              "</style>\n",
              "<table border=\"1\" class=\"dataframe\">\n",
              "  <thead>\n",
              "    <tr style=\"text-align: right;\">\n",
              "      <th></th>\n",
              "      <th>symboling</th>\n",
              "      <th>normalized-losses</th>\n",
              "      <th>make</th>\n",
              "      <th>fuel-type</th>\n",
              "      <th>aspiration</th>\n",
              "      <th>num-of-doors</th>\n",
              "      <th>body-style</th>\n",
              "      <th>drive-wheels</th>\n",
              "      <th>engine-location</th>\n",
              "      <th>wheel-base</th>\n",
              "      <th>length</th>\n",
              "      <th>width</th>\n",
              "      <th>height</th>\n",
              "      <th>curb-weight</th>\n",
              "      <th>engine-type</th>\n",
              "      <th>num-of-cylinders</th>\n",
              "      <th>engine-size</th>\n",
              "      <th>fuel-system</th>\n",
              "      <th>bore</th>\n",
              "      <th>stroke</th>\n",
              "      <th>compression-ratio</th>\n",
              "      <th>horsepower</th>\n",
              "      <th>peak-rpm</th>\n",
              "      <th>city-mpg</th>\n",
              "      <th>highway-mpg</th>\n",
              "      <th>price</th>\n",
              "    </tr>\n",
              "  </thead>\n",
              "  <tbody>\n",
              "    <tr>\n",
              "      <th>count</th>\n",
              "      <td>205</td>\n",
              "      <td>205</td>\n",
              "      <td>205</td>\n",
              "      <td>205</td>\n",
              "      <td>205</td>\n",
              "      <td>205</td>\n",
              "      <td>205</td>\n",
              "      <td>205</td>\n",
              "      <td>205</td>\n",
              "      <td>205</td>\n",
              "      <td>205</td>\n",
              "      <td>205</td>\n",
              "      <td>205</td>\n",
              "      <td>205</td>\n",
              "      <td>205</td>\n",
              "      <td>205</td>\n",
              "      <td>205</td>\n",
              "      <td>205</td>\n",
              "      <td>205</td>\n",
              "      <td>205</td>\n",
              "      <td>205</td>\n",
              "      <td>205</td>\n",
              "      <td>205</td>\n",
              "      <td>205</td>\n",
              "      <td>205</td>\n",
              "      <td>205</td>\n",
              "    </tr>\n",
              "    <tr>\n",
              "      <th>unique</th>\n",
              "      <td>6</td>\n",
              "      <td>52</td>\n",
              "      <td>22</td>\n",
              "      <td>2</td>\n",
              "      <td>2</td>\n",
              "      <td>3</td>\n",
              "      <td>5</td>\n",
              "      <td>3</td>\n",
              "      <td>2</td>\n",
              "      <td>53</td>\n",
              "      <td>75</td>\n",
              "      <td>44</td>\n",
              "      <td>49</td>\n",
              "      <td>171</td>\n",
              "      <td>7</td>\n",
              "      <td>7</td>\n",
              "      <td>44</td>\n",
              "      <td>8</td>\n",
              "      <td>39</td>\n",
              "      <td>37</td>\n",
              "      <td>32</td>\n",
              "      <td>60</td>\n",
              "      <td>24</td>\n",
              "      <td>29</td>\n",
              "      <td>30</td>\n",
              "      <td>187</td>\n",
              "    </tr>\n",
              "    <tr>\n",
              "      <th>top</th>\n",
              "      <td>0</td>\n",
              "      <td>?</td>\n",
              "      <td>toyota</td>\n",
              "      <td>gas</td>\n",
              "      <td>std</td>\n",
              "      <td>four</td>\n",
              "      <td>sedan</td>\n",
              "      <td>fwd</td>\n",
              "      <td>front</td>\n",
              "      <td>94.5</td>\n",
              "      <td>157.3</td>\n",
              "      <td>63.8</td>\n",
              "      <td>50.8</td>\n",
              "      <td>2385</td>\n",
              "      <td>ohc</td>\n",
              "      <td>four</td>\n",
              "      <td>122</td>\n",
              "      <td>mpfi</td>\n",
              "      <td>3.62</td>\n",
              "      <td>3.4</td>\n",
              "      <td>9</td>\n",
              "      <td>68</td>\n",
              "      <td>5500</td>\n",
              "      <td>31</td>\n",
              "      <td>25</td>\n",
              "      <td>?</td>\n",
              "    </tr>\n",
              "    <tr>\n",
              "      <th>freq</th>\n",
              "      <td>67</td>\n",
              "      <td>41</td>\n",
              "      <td>32</td>\n",
              "      <td>185</td>\n",
              "      <td>168</td>\n",
              "      <td>114</td>\n",
              "      <td>96</td>\n",
              "      <td>120</td>\n",
              "      <td>202</td>\n",
              "      <td>21</td>\n",
              "      <td>15</td>\n",
              "      <td>24</td>\n",
              "      <td>14</td>\n",
              "      <td>4</td>\n",
              "      <td>148</td>\n",
              "      <td>159</td>\n",
              "      <td>15</td>\n",
              "      <td>94</td>\n",
              "      <td>23</td>\n",
              "      <td>20</td>\n",
              "      <td>46</td>\n",
              "      <td>19</td>\n",
              "      <td>37</td>\n",
              "      <td>28</td>\n",
              "      <td>19</td>\n",
              "      <td>4</td>\n",
              "    </tr>\n",
              "  </tbody>\n",
              "</table>\n",
              "</div>"
            ],
            "text/plain": [
              "       symboling normalized-losses    make  ... city-mpg highway-mpg price\n",
              "count        205               205     205  ...      205         205   205\n",
              "unique         6                52      22  ...       29          30   187\n",
              "top            0                 ?  toyota  ...       31          25     ?\n",
              "freq          67                41      32  ...       28          19     4\n",
              "\n",
              "[4 rows x 26 columns]"
            ]
          },
          "metadata": {
            "tags": []
          },
          "execution_count": 13
        }
      ]
    },
    {
      "cell_type": "code",
      "metadata": {
        "id": "lF8w3NeWUC8D"
      },
      "source": [
        "#function shows top 30 as well as bottom 30 rows\n",
        "df.info()"
      ],
      "execution_count": null,
      "outputs": []
    },
    {
      "cell_type": "code",
      "metadata": {
        "id": "yMB7qcN-UDBS"
      },
      "source": [
        "from io import StringIO"
      ],
      "execution_count": 12,
      "outputs": []
    },
    {
      "cell_type": "markdown",
      "metadata": {
        "id": "6uDKhwc_UtWy"
      },
      "source": [
        "**SIMPLE PANDAS METHODS**\n"
      ]
    },
    {
      "cell_type": "code",
      "metadata": {
        "id": "exq6ATgdUDG7"
      },
      "source": [
        "#dealing with missing values\n",
        "#drop the variable\n",
        "#drop the data entry\n",
        "#replacing the data entry -> By average value of entire col\n",
        "#categorical variables like fuel types (Try use the most common like the gasoline for fuel type)\n",
        "#leave it as missing\n",
        "\n",
        "#df.dropna()\n",
        "#axis=0  drops entire row\n",
        "#axis=1  drops entire column\n",
        "#df.dropna(subset=[\"price\"], axis=0, implace = True)\n",
        "\n",
        "#calculate mean of the column and replace the missing value with the mean value\n",
        "\n",
        "#df.normalized-losses =pd.to_numeric(df.normalized-losses, errors ='coerce').fillna(0).astype('int')\n",
        "#mean = df[\"normalized-losses\"].mean();\n",
        "#mean\n"
      ],
      "execution_count": null,
      "outputs": []
    },
    {
      "cell_type": "code",
      "metadata": {
        "id": "AGEbeQ5-sM20"
      },
      "source": [
        "# \n",
        "# df['normalized-losses'].fillna(df['normalized-losses'].mean())\n",
        "\n",
        "# df.replace('?', 0)\n",
        "df['normalized-losses'] = df['normalized-losses'].replace('?', 0)"
      ],
      "execution_count": 13,
      "outputs": []
    },
    {
      "cell_type": "code",
      "metadata": {
        "colab": {
          "base_uri": "https://localhost:8080/",
          "height": 309
        },
        "id": "mvHqkHLEUDMn",
        "outputId": "ed234af7-0918-4d48-e9b8-884e0451b083"
      },
      "source": [
        "df.head()"
      ],
      "execution_count": 14,
      "outputs": [
        {
          "output_type": "execute_result",
          "data": {
            "text/html": [
              "<div>\n",
              "<style scoped>\n",
              "    .dataframe tbody tr th:only-of-type {\n",
              "        vertical-align: middle;\n",
              "    }\n",
              "\n",
              "    .dataframe tbody tr th {\n",
              "        vertical-align: top;\n",
              "    }\n",
              "\n",
              "    .dataframe thead th {\n",
              "        text-align: right;\n",
              "    }\n",
              "</style>\n",
              "<table border=\"1\" class=\"dataframe\">\n",
              "  <thead>\n",
              "    <tr style=\"text-align: right;\">\n",
              "      <th></th>\n",
              "      <th>symboling</th>\n",
              "      <th>normalized-losses</th>\n",
              "      <th>make</th>\n",
              "      <th>fuel-type</th>\n",
              "      <th>aspiration</th>\n",
              "      <th>num-of-doors</th>\n",
              "      <th>body-style</th>\n",
              "      <th>drive-wheels</th>\n",
              "      <th>engine-location</th>\n",
              "      <th>wheel-base</th>\n",
              "      <th>length</th>\n",
              "      <th>width</th>\n",
              "      <th>height</th>\n",
              "      <th>curb-weight</th>\n",
              "      <th>engine-type</th>\n",
              "      <th>num-of-cylinders</th>\n",
              "      <th>engine-size</th>\n",
              "      <th>fuel-system</th>\n",
              "      <th>bore</th>\n",
              "      <th>stroke</th>\n",
              "      <th>compression-ratio</th>\n",
              "      <th>horsepower</th>\n",
              "      <th>peak-rpm</th>\n",
              "      <th>city-mpg</th>\n",
              "      <th>highway-mpg</th>\n",
              "      <th>price</th>\n",
              "    </tr>\n",
              "  </thead>\n",
              "  <tbody>\n",
              "    <tr>\n",
              "      <th>1</th>\n",
              "      <td>3</td>\n",
              "      <td>0</td>\n",
              "      <td>alfa-romero</td>\n",
              "      <td>gas</td>\n",
              "      <td>std</td>\n",
              "      <td>two</td>\n",
              "      <td>convertible</td>\n",
              "      <td>rwd</td>\n",
              "      <td>front</td>\n",
              "      <td>88.6</td>\n",
              "      <td>168.8</td>\n",
              "      <td>64.1</td>\n",
              "      <td>48.8</td>\n",
              "      <td>2548</td>\n",
              "      <td>dohc</td>\n",
              "      <td>four</td>\n",
              "      <td>130</td>\n",
              "      <td>mpfi</td>\n",
              "      <td>3.47</td>\n",
              "      <td>2.68</td>\n",
              "      <td>9</td>\n",
              "      <td>111</td>\n",
              "      <td>5000</td>\n",
              "      <td>21</td>\n",
              "      <td>27</td>\n",
              "      <td>13495</td>\n",
              "    </tr>\n",
              "    <tr>\n",
              "      <th>2</th>\n",
              "      <td>3</td>\n",
              "      <td>0</td>\n",
              "      <td>alfa-romero</td>\n",
              "      <td>gas</td>\n",
              "      <td>std</td>\n",
              "      <td>two</td>\n",
              "      <td>convertible</td>\n",
              "      <td>rwd</td>\n",
              "      <td>front</td>\n",
              "      <td>88.6</td>\n",
              "      <td>168.8</td>\n",
              "      <td>64.1</td>\n",
              "      <td>48.8</td>\n",
              "      <td>2548</td>\n",
              "      <td>dohc</td>\n",
              "      <td>four</td>\n",
              "      <td>130</td>\n",
              "      <td>mpfi</td>\n",
              "      <td>3.47</td>\n",
              "      <td>2.68</td>\n",
              "      <td>9</td>\n",
              "      <td>111</td>\n",
              "      <td>5000</td>\n",
              "      <td>21</td>\n",
              "      <td>27</td>\n",
              "      <td>16500</td>\n",
              "    </tr>\n",
              "    <tr>\n",
              "      <th>3</th>\n",
              "      <td>1</td>\n",
              "      <td>0</td>\n",
              "      <td>alfa-romero</td>\n",
              "      <td>gas</td>\n",
              "      <td>std</td>\n",
              "      <td>two</td>\n",
              "      <td>hatchback</td>\n",
              "      <td>rwd</td>\n",
              "      <td>front</td>\n",
              "      <td>94.5</td>\n",
              "      <td>171.2</td>\n",
              "      <td>65.5</td>\n",
              "      <td>52.4</td>\n",
              "      <td>2823</td>\n",
              "      <td>ohcv</td>\n",
              "      <td>six</td>\n",
              "      <td>152</td>\n",
              "      <td>mpfi</td>\n",
              "      <td>2.68</td>\n",
              "      <td>3.47</td>\n",
              "      <td>9</td>\n",
              "      <td>154</td>\n",
              "      <td>5000</td>\n",
              "      <td>19</td>\n",
              "      <td>26</td>\n",
              "      <td>16500</td>\n",
              "    </tr>\n",
              "    <tr>\n",
              "      <th>4</th>\n",
              "      <td>2</td>\n",
              "      <td>164</td>\n",
              "      <td>audi</td>\n",
              "      <td>gas</td>\n",
              "      <td>std</td>\n",
              "      <td>four</td>\n",
              "      <td>sedan</td>\n",
              "      <td>fwd</td>\n",
              "      <td>front</td>\n",
              "      <td>99.8</td>\n",
              "      <td>176.6</td>\n",
              "      <td>66.2</td>\n",
              "      <td>54.3</td>\n",
              "      <td>2337</td>\n",
              "      <td>ohc</td>\n",
              "      <td>four</td>\n",
              "      <td>109</td>\n",
              "      <td>mpfi</td>\n",
              "      <td>3.19</td>\n",
              "      <td>3.4</td>\n",
              "      <td>10</td>\n",
              "      <td>102</td>\n",
              "      <td>5500</td>\n",
              "      <td>24</td>\n",
              "      <td>30</td>\n",
              "      <td>13950</td>\n",
              "    </tr>\n",
              "    <tr>\n",
              "      <th>5</th>\n",
              "      <td>2</td>\n",
              "      <td>164</td>\n",
              "      <td>audi</td>\n",
              "      <td>gas</td>\n",
              "      <td>std</td>\n",
              "      <td>four</td>\n",
              "      <td>sedan</td>\n",
              "      <td>4wd</td>\n",
              "      <td>front</td>\n",
              "      <td>99.4</td>\n",
              "      <td>176.6</td>\n",
              "      <td>66.4</td>\n",
              "      <td>54.3</td>\n",
              "      <td>2824</td>\n",
              "      <td>ohc</td>\n",
              "      <td>five</td>\n",
              "      <td>136</td>\n",
              "      <td>mpfi</td>\n",
              "      <td>3.19</td>\n",
              "      <td>3.4</td>\n",
              "      <td>8</td>\n",
              "      <td>115</td>\n",
              "      <td>5500</td>\n",
              "      <td>18</td>\n",
              "      <td>22</td>\n",
              "      <td>17450</td>\n",
              "    </tr>\n",
              "  </tbody>\n",
              "</table>\n",
              "</div>"
            ],
            "text/plain": [
              "  symboling normalized-losses         make  ... city-mpg highway-mpg  price\n",
              "1         3                 0  alfa-romero  ...       21          27  13495\n",
              "2         3                 0  alfa-romero  ...       21          27  16500\n",
              "3         1                 0  alfa-romero  ...       19          26  16500\n",
              "4         2               164         audi  ...       24          30  13950\n",
              "5         2               164         audi  ...       18          22  17450\n",
              "\n",
              "[5 rows x 26 columns]"
            ]
          },
          "metadata": {
            "tags": []
          },
          "execution_count": 14
        }
      ]
    },
    {
      "cell_type": "code",
      "metadata": {
        "colab": {
          "base_uri": "https://localhost:8080/"
        },
        "id": "kP_V1-YghzUZ",
        "outputId": "34c623ed-704b-4a4b-8d91-b343e49acd30"
      },
      "source": [
        "#calculating mean value from normalized-losses column\n",
        "vals = pd.to_numeric(df[\"normalized-losses\"], errors='coerce')\n",
        "df[\"normalized-losses\"] = vals.fillna(vals.mean()) \n",
        "#data from jpp\n",
        "print (vals.mean())"
      ],
      "execution_count": 15,
      "outputs": [
        {
          "output_type": "stream",
          "text": [
            "97.6\n"
          ],
          "name": "stdout"
        }
      ]
    },
    {
      "cell_type": "code",
      "metadata": {
        "colab": {
          "base_uri": "https://localhost:8080/"
        },
        "id": "uar8RDbDjJ2E",
        "outputId": "d409108f-6ed7-4bdf-86ed-1990361642c1"
      },
      "source": [
        "#Conversion of Object data type in int data type\n",
        "\n",
        "df['city-mpg']=df[\"city-mpg\"].astype(\"int\")\n",
        "\n",
        "df[\"city-mpg\"]\n"
      ],
      "execution_count": 16,
      "outputs": [
        {
          "output_type": "execute_result",
          "data": {
            "text/plain": [
              "1      21\n",
              "2      21\n",
              "3      19\n",
              "4      24\n",
              "5      18\n",
              "       ..\n",
              "201    23\n",
              "202    19\n",
              "203    18\n",
              "204    26\n",
              "205    19\n",
              "Name: city-mpg, Length: 205, dtype: int64"
            ]
          },
          "metadata": {
            "tags": []
          },
          "execution_count": 16
        }
      ]
    },
    {
      "cell_type": "code",
      "metadata": {
        "colab": {
          "base_uri": "https://localhost:8080/"
        },
        "id": "hxyOLkOqjKMj",
        "outputId": "dab19612-5a9e-4637-9ddf-9bb28d5a8dfd"
      },
      "source": [
        "#convert city miles per gallon(mpg) to liters per 100kms by dividing 235 each values\n",
        "df[\"city-mpg\"] = 235/df[\"city-mpg\"]\n",
        "df[\"city-mpg\"]"
      ],
      "execution_count": 17,
      "outputs": [
        {
          "output_type": "execute_result",
          "data": {
            "text/plain": [
              "1      11.190476\n",
              "2      11.190476\n",
              "3      12.368421\n",
              "4       9.791667\n",
              "5      13.055556\n",
              "         ...    \n",
              "201    10.217391\n",
              "202    12.368421\n",
              "203    13.055556\n",
              "204     9.038462\n",
              "205    12.368421\n",
              "Name: city-mpg, Length: 205, dtype: float64"
            ]
          },
          "metadata": {
            "tags": []
          },
          "execution_count": 17
        }
      ]
    },
    {
      "cell_type": "code",
      "metadata": {
        "colab": {
          "base_uri": "https://localhost:8080/",
          "height": 309
        },
        "id": "s5bmPqdsnVvC",
        "outputId": "29a28a94-abf5-4471-ce12-06ac8c25cdf0"
      },
      "source": [
        "#rename the column name using df.replace() city-mpg to city-L/100km\n",
        "df.rename(columns={\"city-mpg\":\"city-L/100km\"},inplace=True)\n",
        "df.head()"
      ],
      "execution_count": 18,
      "outputs": [
        {
          "output_type": "execute_result",
          "data": {
            "text/html": [
              "<div>\n",
              "<style scoped>\n",
              "    .dataframe tbody tr th:only-of-type {\n",
              "        vertical-align: middle;\n",
              "    }\n",
              "\n",
              "    .dataframe tbody tr th {\n",
              "        vertical-align: top;\n",
              "    }\n",
              "\n",
              "    .dataframe thead th {\n",
              "        text-align: right;\n",
              "    }\n",
              "</style>\n",
              "<table border=\"1\" class=\"dataframe\">\n",
              "  <thead>\n",
              "    <tr style=\"text-align: right;\">\n",
              "      <th></th>\n",
              "      <th>symboling</th>\n",
              "      <th>normalized-losses</th>\n",
              "      <th>make</th>\n",
              "      <th>fuel-type</th>\n",
              "      <th>aspiration</th>\n",
              "      <th>num-of-doors</th>\n",
              "      <th>body-style</th>\n",
              "      <th>drive-wheels</th>\n",
              "      <th>engine-location</th>\n",
              "      <th>wheel-base</th>\n",
              "      <th>length</th>\n",
              "      <th>width</th>\n",
              "      <th>height</th>\n",
              "      <th>curb-weight</th>\n",
              "      <th>engine-type</th>\n",
              "      <th>num-of-cylinders</th>\n",
              "      <th>engine-size</th>\n",
              "      <th>fuel-system</th>\n",
              "      <th>bore</th>\n",
              "      <th>stroke</th>\n",
              "      <th>compression-ratio</th>\n",
              "      <th>horsepower</th>\n",
              "      <th>peak-rpm</th>\n",
              "      <th>city-L/100km</th>\n",
              "      <th>highway-mpg</th>\n",
              "      <th>price</th>\n",
              "    </tr>\n",
              "  </thead>\n",
              "  <tbody>\n",
              "    <tr>\n",
              "      <th>1</th>\n",
              "      <td>3</td>\n",
              "      <td>0</td>\n",
              "      <td>alfa-romero</td>\n",
              "      <td>gas</td>\n",
              "      <td>std</td>\n",
              "      <td>two</td>\n",
              "      <td>convertible</td>\n",
              "      <td>rwd</td>\n",
              "      <td>front</td>\n",
              "      <td>88.6</td>\n",
              "      <td>168.8</td>\n",
              "      <td>64.1</td>\n",
              "      <td>48.8</td>\n",
              "      <td>2548</td>\n",
              "      <td>dohc</td>\n",
              "      <td>four</td>\n",
              "      <td>130</td>\n",
              "      <td>mpfi</td>\n",
              "      <td>3.47</td>\n",
              "      <td>2.68</td>\n",
              "      <td>9</td>\n",
              "      <td>111</td>\n",
              "      <td>5000</td>\n",
              "      <td>11.190476</td>\n",
              "      <td>27</td>\n",
              "      <td>13495</td>\n",
              "    </tr>\n",
              "    <tr>\n",
              "      <th>2</th>\n",
              "      <td>3</td>\n",
              "      <td>0</td>\n",
              "      <td>alfa-romero</td>\n",
              "      <td>gas</td>\n",
              "      <td>std</td>\n",
              "      <td>two</td>\n",
              "      <td>convertible</td>\n",
              "      <td>rwd</td>\n",
              "      <td>front</td>\n",
              "      <td>88.6</td>\n",
              "      <td>168.8</td>\n",
              "      <td>64.1</td>\n",
              "      <td>48.8</td>\n",
              "      <td>2548</td>\n",
              "      <td>dohc</td>\n",
              "      <td>four</td>\n",
              "      <td>130</td>\n",
              "      <td>mpfi</td>\n",
              "      <td>3.47</td>\n",
              "      <td>2.68</td>\n",
              "      <td>9</td>\n",
              "      <td>111</td>\n",
              "      <td>5000</td>\n",
              "      <td>11.190476</td>\n",
              "      <td>27</td>\n",
              "      <td>16500</td>\n",
              "    </tr>\n",
              "    <tr>\n",
              "      <th>3</th>\n",
              "      <td>1</td>\n",
              "      <td>0</td>\n",
              "      <td>alfa-romero</td>\n",
              "      <td>gas</td>\n",
              "      <td>std</td>\n",
              "      <td>two</td>\n",
              "      <td>hatchback</td>\n",
              "      <td>rwd</td>\n",
              "      <td>front</td>\n",
              "      <td>94.5</td>\n",
              "      <td>171.2</td>\n",
              "      <td>65.5</td>\n",
              "      <td>52.4</td>\n",
              "      <td>2823</td>\n",
              "      <td>ohcv</td>\n",
              "      <td>six</td>\n",
              "      <td>152</td>\n",
              "      <td>mpfi</td>\n",
              "      <td>2.68</td>\n",
              "      <td>3.47</td>\n",
              "      <td>9</td>\n",
              "      <td>154</td>\n",
              "      <td>5000</td>\n",
              "      <td>12.368421</td>\n",
              "      <td>26</td>\n",
              "      <td>16500</td>\n",
              "    </tr>\n",
              "    <tr>\n",
              "      <th>4</th>\n",
              "      <td>2</td>\n",
              "      <td>164</td>\n",
              "      <td>audi</td>\n",
              "      <td>gas</td>\n",
              "      <td>std</td>\n",
              "      <td>four</td>\n",
              "      <td>sedan</td>\n",
              "      <td>fwd</td>\n",
              "      <td>front</td>\n",
              "      <td>99.8</td>\n",
              "      <td>176.6</td>\n",
              "      <td>66.2</td>\n",
              "      <td>54.3</td>\n",
              "      <td>2337</td>\n",
              "      <td>ohc</td>\n",
              "      <td>four</td>\n",
              "      <td>109</td>\n",
              "      <td>mpfi</td>\n",
              "      <td>3.19</td>\n",
              "      <td>3.4</td>\n",
              "      <td>10</td>\n",
              "      <td>102</td>\n",
              "      <td>5500</td>\n",
              "      <td>9.791667</td>\n",
              "      <td>30</td>\n",
              "      <td>13950</td>\n",
              "    </tr>\n",
              "    <tr>\n",
              "      <th>5</th>\n",
              "      <td>2</td>\n",
              "      <td>164</td>\n",
              "      <td>audi</td>\n",
              "      <td>gas</td>\n",
              "      <td>std</td>\n",
              "      <td>four</td>\n",
              "      <td>sedan</td>\n",
              "      <td>4wd</td>\n",
              "      <td>front</td>\n",
              "      <td>99.4</td>\n",
              "      <td>176.6</td>\n",
              "      <td>66.4</td>\n",
              "      <td>54.3</td>\n",
              "      <td>2824</td>\n",
              "      <td>ohc</td>\n",
              "      <td>five</td>\n",
              "      <td>136</td>\n",
              "      <td>mpfi</td>\n",
              "      <td>3.19</td>\n",
              "      <td>3.4</td>\n",
              "      <td>8</td>\n",
              "      <td>115</td>\n",
              "      <td>5500</td>\n",
              "      <td>13.055556</td>\n",
              "      <td>22</td>\n",
              "      <td>17450</td>\n",
              "    </tr>\n",
              "  </tbody>\n",
              "</table>\n",
              "</div>"
            ],
            "text/plain": [
              "  symboling  normalized-losses         make  ... city-L/100km highway-mpg  price\n",
              "1         3                  0  alfa-romero  ...    11.190476          27  13495\n",
              "2         3                  0  alfa-romero  ...    11.190476          27  16500\n",
              "3         1                  0  alfa-romero  ...    12.368421          26  16500\n",
              "4         2                164         audi  ...     9.791667          30  13950\n",
              "5         2                164         audi  ...    13.055556          22  17450\n",
              "\n",
              "[5 rows x 26 columns]"
            ]
          },
          "metadata": {
            "tags": []
          },
          "execution_count": 18
        }
      ]
    },
    {
      "cell_type": "code",
      "metadata": {
        "colab": {
          "base_uri": "https://localhost:8080/"
        },
        "id": "pO_FRc8bnWA_",
        "outputId": "c722f12e-6a29-4422-ce02-7db22e56f661"
      },
      "source": [
        "#Data Normalization for data preprocessing\n",
        "#ways : 1. Simple feature Scaling 2. MinMax 3.Z-score\n",
        "df[\"length\"]=df[\"length\"].astype(float)\n",
        "df [\"length\"]=df[\"length\"]/df[\"length\"].max()\n",
        "#df[\"length\"]\n",
        "#1 minmax method\n",
        "df[\"length\"] = (df[\"length\"]-df[\"length\"].min())/(df[\"length\"].max()-df[\"length\"].min())\n",
        "#result using first Method: Xnew=Xold/Xmax\n",
        "#df[\"length\"]\n",
        "#result using second method: Xnew=Xold-Xmin/Xmax-Xmin\n",
        "df[\"length\"]=(df[\"length\"]-df[\"length\"].min())/(df[\"length\"].max()-df[\"length\"].min())\n",
        "#df[\"length\"]\n",
        "\n",
        "#result using third method known as Z-score or Standard Score method: Xnew=Xold-meu/sigma \n",
        "#meu = average of feature sigma= sd of range(-3 -3)\n",
        "df[\"length\"]  =(df[\"length\"]-df[\"length\"].mean())/df[\"length\"].std()\n",
        "df[\"length\"]\n",
        "\n"
      ],
      "execution_count": null,
      "outputs": [
        {
          "output_type": "execute_result",
          "data": {
            "text/plain": [
              "1     -0.425480\n",
              "2     -0.425480\n",
              "3     -0.230948\n",
              "4      0.206750\n",
              "5      0.206750\n",
              "         ...   \n",
              "201    1.195622\n",
              "202    1.195622\n",
              "203    1.195622\n",
              "204    1.195622\n",
              "205    1.195622\n",
              "Name: length, Length: 205, dtype: float64"
            ]
          },
          "metadata": {
            "tags": []
          },
          "execution_count": 55
        }
      ]
    },
    {
      "cell_type": "code",
      "metadata": {
        "id": "SkmRSqS6qAPu"
      },
      "source": [
        "#Binning in Python\n",
        "# grouping in set of nuymerical values  i.e. converting numerical to categorical values\n",
        "#\"price\" is a feature from range 5000  to 45000 Using Binning 3 bins are of like\n",
        "# low: 5k-17k  medium:17k-35k   high: 35-45k\n",
        "\n",
        "import numpy as np\n",
        "import seaborn as sns\n",
        "import matplotlib.pyplot as plt"
      ],
      "execution_count": 24,
      "outputs": []
    },
    {
      "cell_type": "code",
      "metadata": {
        "id": "kiE8j2wksVp3"
      },
      "source": [
        "sns.set_style('whitegrid')\n"
      ],
      "execution_count": 20,
      "outputs": []
    },
    {
      "cell_type": "code",
      "metadata": {
        "colab": {
          "base_uri": "https://localhost:8080/",
          "height": 315
        },
        "id": "DP-cs_CPsVy9",
        "outputId": "0e4b271c-d3d8-47c6-c3db-80489a09fa23"
      },
      "source": [
        "df['price'] = pd.to_numeric(df['price'], errors='coerce')\n",
        "\n",
        "df['price'].dtypes\n",
        "#Plotting price column to histogram\n",
        "df.hist(column='price')\n"
      ],
      "execution_count": 21,
      "outputs": [
        {
          "output_type": "execute_result",
          "data": {
            "text/plain": [
              "array([[<matplotlib.axes._subplots.AxesSubplot object at 0x7f03c6efdc50>]],\n",
              "      dtype=object)"
            ]
          },
          "metadata": {
            "tags": []
          },
          "execution_count": 21
        },
        {
          "output_type": "display_data",
          "data": {
            "image/png": "[encoded data removed]",
            "text/plain": [
              "<Figure size 432x288 with 1 Axes>"
            ]
          },
          "metadata": {
            "tags": []
          }
        }
      ]
    },
    {
      "cell_type": "code",
      "metadata": {
        "id": "Za8EJ7r_yhFB"
      },
      "source": [
        "#For binning we first use numpy linspace function to 4 equally spaced numbers\n",
        "bins =np.linspace(min(df['price']),max(df[\"price\"]), 4)\n",
        "group_names=[\"Low\",\"Medium\",\"High\"]\n",
        "df[\"price-binned\"]=pd.cut(df[\"price\"], bins,labels=group_names, include_lowest=True)\n",
        "#df[\"price-binned\"].dtypes"
      ],
      "execution_count": 22,
      "outputs": []
    },
    {
      "cell_type": "code",
      "metadata": {
        "colab": {
          "base_uri": "https://localhost:8080/",
          "height": 295
        },
        "id": "_h-2IaQQyhKK",
        "outputId": "8a85d0bf-4bf1-4e5a-9886-2e3be92e509c"
      },
      "source": [
        "# binning- grouping values\n",
        "bins = np.linspace(min( df['price']), max(df['price']), 4) \n",
        "group_names = ['Low', 'Medium', 'High']\n",
        "df['price-binned'] = pd.cut(df['price'], bins,labels = group_names, include_lowest = True)\n",
        "  \n",
        "#print(df['price-binned'])\n",
        "#plt.hist(df['price-binned'])\n",
        "\n",
        "df['price'].plot(kind='hist',bins=3, title= \"Histogram of Car Price in 3 bins\")\n",
        "plt.xlabel(\"Price\")\n",
        "plt.ylabel(\"Count\")\n",
        "plt.show()"
      ],
      "execution_count": 25,
      "outputs": [
        {
          "output_type": "display_data",
          "data": {
            "image/png": "[encoded data removed]",
            "text/plain": [
              "<Figure size 432x288 with 1 Axes>"
            ]
          },
          "metadata": {
            "tags": []
          }
        }
      ]
    },
    {
      "cell_type": "code",
      "metadata": {
        "colab": {
          "base_uri": "https://localhost:8080/",
          "height": 204
        },
        "id": "0ACsMbOd5TcN",
        "outputId": "2c3ab7c1-75b7-4661-93d1-1bea50af8a4b"
      },
      "source": [
        "#Categorical Values to Numerical one By converting them in specific features\n",
        "#one hot encoding (Dummy variables in Python Pandas)\n",
        "pd.get_dummies(df[\"fuel-type\"]).head()\n",
        " \n",
        "# descriptive analysis\n",
        "# NaN are skipped\n",
        "#df.describe()\n"
      ],
      "execution_count": 32,
      "outputs": [
        {
          "output_type": "execute_result",
          "data": {
            "text/html": [
              "<div>\n",
              "<style scoped>\n",
              "    .dataframe tbody tr th:only-of-type {\n",
              "        vertical-align: middle;\n",
              "    }\n",
              "\n",
              "    .dataframe tbody tr th {\n",
              "        vertical-align: top;\n",
              "    }\n",
              "\n",
              "    .dataframe thead th {\n",
              "        text-align: right;\n",
              "    }\n",
              "</style>\n",
              "<table border=\"1\" class=\"dataframe\">\n",
              "  <thead>\n",
              "    <tr style=\"text-align: right;\">\n",
              "      <th></th>\n",
              "      <th>diesel</th>\n",
              "      <th>gas</th>\n",
              "    </tr>\n",
              "  </thead>\n",
              "  <tbody>\n",
              "    <tr>\n",
              "      <th>1</th>\n",
              "      <td>0</td>\n",
              "      <td>1</td>\n",
              "    </tr>\n",
              "    <tr>\n",
              "      <th>2</th>\n",
              "      <td>0</td>\n",
              "      <td>1</td>\n",
              "    </tr>\n",
              "    <tr>\n",
              "      <th>3</th>\n",
              "      <td>0</td>\n",
              "      <td>1</td>\n",
              "    </tr>\n",
              "    <tr>\n",
              "      <th>4</th>\n",
              "      <td>0</td>\n",
              "      <td>1</td>\n",
              "    </tr>\n",
              "    <tr>\n",
              "      <th>5</th>\n",
              "      <td>0</td>\n",
              "      <td>1</td>\n",
              "    </tr>\n",
              "  </tbody>\n",
              "</table>\n",
              "</div>"
            ],
            "text/plain": [
              "   diesel  gas\n",
              "1       0    1\n",
              "2       0    1\n",
              "3       0    1\n",
              "4       0    1\n",
              "5       0    1"
            ]
          },
          "metadata": {
            "tags": []
          },
          "execution_count": 32
        }
      ]
    },
    {
      "cell_type": "markdown",
      "metadata": {
        "id": "zccBj3z9LRye"
      },
      "source": [
        "## Exploratory Data Analysis\n",
        " \n",
        "1.   Summerize main characterstics of Data\n",
        "2.   Gain better understanding of data set\n",
        "3.   Uncover relationship between variables and extract important variables\n",
        "\n",
        "##Question:\n",
        "What are the characterstics which have the most impact on the car price?\n",
        "\n",
        "##Descriptive Statistics\n",
        "1. describes basic features of data\n",
        "2. give short summeries about the sample and measures the data\n",
        "\n"
      ]
    },
    {
      "cell_type": "code",
      "metadata": {
        "colab": {
          "base_uri": "https://localhost:8080/",
          "height": 142
        },
        "id": "9oKd3-X_5TWi",
        "outputId": "19ceb59f-1e15-4723-db2c-44b6e4be2b8c"
      },
      "source": [
        "##Descriptive Statistics\n",
        "#GroupBy\n",
        "#Correlation\n",
        "#Pearson Correlation\n",
        "\n",
        "### METHODS => describe(), value_counts()\n",
        "### Summerize the categorical value data:\n",
        "drive_wheels_counts=df[\"drive-wheels\"].value_counts().to_frame()\n",
        "drive_wheels_counts.rename(columns={'drive_wheels':\"vlaue_counts\"}, inplace=True)\n",
        "drive_wheels_counts"
      ],
      "execution_count": 35,
      "outputs": [
        {
          "output_type": "execute_result",
          "data": {
            "text/html": [
              "<div>\n",
              "<style scoped>\n",
              "    .dataframe tbody tr th:only-of-type {\n",
              "        vertical-align: middle;\n",
              "    }\n",
              "\n",
              "    .dataframe tbody tr th {\n",
              "        vertical-align: top;\n",
              "    }\n",
              "\n",
              "    .dataframe thead th {\n",
              "        text-align: right;\n",
              "    }\n",
              "</style>\n",
              "<table border=\"1\" class=\"dataframe\">\n",
              "  <thead>\n",
              "    <tr style=\"text-align: right;\">\n",
              "      <th></th>\n",
              "      <th>drive-wheels</th>\n",
              "    </tr>\n",
              "  </thead>\n",
              "  <tbody>\n",
              "    <tr>\n",
              "      <th>fwd</th>\n",
              "      <td>120</td>\n",
              "    </tr>\n",
              "    <tr>\n",
              "      <th>rwd</th>\n",
              "      <td>76</td>\n",
              "    </tr>\n",
              "    <tr>\n",
              "      <th>4wd</th>\n",
              "      <td>9</td>\n",
              "    </tr>\n",
              "  </tbody>\n",
              "</table>\n",
              "</div>"
            ],
            "text/plain": [
              "     drive-wheels\n",
              "fwd           120\n",
              "rwd            76\n",
              "4wd             9"
            ]
          },
          "metadata": {
            "tags": []
          },
          "execution_count": 35
        }
      ]
    },
    {
      "cell_type": "markdown",
      "metadata": {
        "id": "yoZi-0VNNy1F"
      },
      "source": [
        "### BOX PLOT \n",
        "The main features that the box plot shows, are the median of the data,\n",
        "which represents where the middle data point is.\n",
        "The upper quartile shows where the 75th percentile is.\n",
        "The lower quartile shows where the 25th percentile is.\n",
        "The data between the upper and lower quartile represents the interquartile range.\n",
        "Next you have the lower and upper extremes.\n",
        "These are calculated as 1.5 times the interquartile range, above the 75th percentile, and as 1.5 times the IQR below the 25th percentile.\n",
        "Finally, box plots also display outliers as individual dots that occur outside the upper and lower extremes.\n",
        "With box plots, you can easily spot outliers, and also see the distribution and skewness of the data. Box plots make it easy to compare between groups."
      ]
    },
    {
      "cell_type": "code",
      "metadata": {
        "colab": {
          "base_uri": "https://localhost:8080/",
          "height": 296
        },
        "id": "VUIqAfGb5TRm",
        "outputId": "527e85c6-77da-40f3-c40d-b349646aceea"
      },
      "source": [
        "sns.boxplot(x=\"drive-wheels\", y=\"price\",data=df)"
      ],
      "execution_count": 36,
      "outputs": [
        {
          "output_type": "execute_result",
          "data": {
            "text/plain": [
              "<matplotlib.axes._subplots.AxesSubplot at 0x7f03c0f21690>"
            ]
          },
          "metadata": {
            "tags": []
          },
          "execution_count": 36
        },
        {
          "output_type": "display_data",
          "data": {
            "image/png": "[encoded data removed]",
            "text/plain": [
              "<Figure size 432x288 with 1 Axes>"
            ]
          },
          "metadata": {
            "tags": []
          }
        }
      ]
    },
    {
      "cell_type": "markdown",
      "metadata": {
        "id": "plZD9zdPPXge"
      },
      "source": [
        "##Scatter plot\n",
        "1. Each observationcan be represented as a pont\n",
        "2. Scatter plot shows the relationship between the two variables.\n",
        "3. Relnship between Engine size and price (Good engine size -> higher price)\n",
        "___________________________\n",
        "1. Predictor/independent variables on X-axis\n",
        "2. Target/dependent variables on Y-axis"
      ]
    },
    {
      "cell_type": "code",
      "metadata": {
        "colab": {
          "base_uri": "https://localhost:8080/"
        },
        "id": "vLh1_3SYVuAz",
        "outputId": "0f3345ad-3bcf-46af-c89f-90bc60fb80a5"
      },
      "source": [
        "df[\"engine-size\"]=df[\"engine-size\"].astype(\"float\")\n",
        "df[\"engine-size\"]"
      ],
      "execution_count": 57,
      "outputs": [
        {
          "output_type": "execute_result",
          "data": {
            "text/plain": [
              "1      130.0\n",
              "2      130.0\n",
              "3      152.0\n",
              "4      109.0\n",
              "5      136.0\n",
              "       ...  \n",
              "201    141.0\n",
              "202    141.0\n",
              "203    173.0\n",
              "204    145.0\n",
              "205    141.0\n",
              "Name: engine-size, Length: 205, dtype: float64"
            ]
          },
          "metadata": {
            "tags": []
          },
          "execution_count": 57
        }
      ]
    },
    {
      "cell_type": "code",
      "metadata": {
        "colab": {
          "base_uri": "https://localhost:8080/",
          "height": 295
        },
        "id": "6lwgO_ZlPKSB",
        "outputId": "ec53c954-5282-4a7a-f751-77c0b7c5bde3"
      },
      "source": [
        "plt.scatter(df[\"engine-size\"],df[\"price\"])\n",
        "plt.title('Matplot scatter plot of EngineSize vs Price')\n",
        "plt.xlabel(\"Engine-size\")\n",
        "plt.ylabel(\"Price\")\n",
        "plt.grid()\n",
        "plt.show()"
      ],
      "execution_count": 59,
      "outputs": [
        {
          "output_type": "display_data",
          "data": {
            "image/png": "[encoded data removed]",
            "text/plain": [
              "<Figure size 432x288 with 1 Axes>"
            ]
          },
          "metadata": {
            "tags": []
          }
        }
      ]
    },
    {
      "cell_type": "markdown",
      "metadata": {
        "id": "dikotFDlgbZ6"
      },
      "source": [
        "##Groupby():Grouping the data\n",
        "1. Can be applied on categorical variables\n",
        "2. Group data into categories\n",
        "3. Single or Multiple Variables\n",
        "\n",
        "###Q. Finding the average price of vehicles and observe how they differ between different types of body styles and drive wheels variables."
      ]
    },
    {
      "cell_type": "code",
      "metadata": {
        "colab": {
          "base_uri": "https://localhost:8080/"
        },
        "id": "9NoCJQ2viQOs",
        "outputId": "d4785acc-e119-4c2f-a8f5-a7f0ab69513b"
      },
      "source": [
        "df[\"body-style\"]"
      ],
      "execution_count": 62,
      "outputs": [
        {
          "output_type": "execute_result",
          "data": {
            "text/plain": [
              "1      convertible\n",
              "2      convertible\n",
              "3        hatchback\n",
              "4            sedan\n",
              "5            sedan\n",
              "          ...     \n",
              "201          sedan\n",
              "202          sedan\n",
              "203          sedan\n",
              "204          sedan\n",
              "205          sedan\n",
              "Name: body-style, Length: 205, dtype: object"
            ]
          },
          "metadata": {
            "tags": []
          },
          "execution_count": 62
        }
      ]
    },
    {
      "cell_type": "code",
      "metadata": {
        "colab": {
          "base_uri": "https://localhost:8080/",
          "height": 452
        },
        "id": "wx0mCk8yPSOO",
        "outputId": "30114b79-617d-4682-901f-f3fa23927982"
      },
      "source": [
        "df_test = df[[\"drive-wheels\",\"body-style\",\"price\"]]\n",
        "df_test\n",
        "# df_group  =df.groupby(\"drive-wheels\")\n",
        "df_group = df_test.groupby([\"drive-wheels\",\"body-style\"], as_index=False).mean()\n",
        "df_group"
      ],
      "execution_count": 69,
      "outputs": [
        {
          "output_type": "execute_result",
          "data": {
            "text/html": [
              "<div>\n",
              "<style scoped>\n",
              "    .dataframe tbody tr th:only-of-type {\n",
              "        vertical-align: middle;\n",
              "    }\n",
              "\n",
              "    .dataframe tbody tr th {\n",
              "        vertical-align: top;\n",
              "    }\n",
              "\n",
              "    .dataframe thead th {\n",
              "        text-align: right;\n",
              "    }\n",
              "</style>\n",
              "<table border=\"1\" class=\"dataframe\">\n",
              "  <thead>\n",
              "    <tr style=\"text-align: right;\">\n",
              "      <th></th>\n",
              "      <th>drive-wheels</th>\n",
              "      <th>body-style</th>\n",
              "      <th>price</th>\n",
              "    </tr>\n",
              "  </thead>\n",
              "  <tbody>\n",
              "    <tr>\n",
              "      <th>0</th>\n",
              "      <td>4wd</td>\n",
              "      <td>hatchback</td>\n",
              "      <td>7603.000000</td>\n",
              "    </tr>\n",
              "    <tr>\n",
              "      <th>1</th>\n",
              "      <td>4wd</td>\n",
              "      <td>sedan</td>\n",
              "      <td>12647.333333</td>\n",
              "    </tr>\n",
              "    <tr>\n",
              "      <th>2</th>\n",
              "      <td>4wd</td>\n",
              "      <td>wagon</td>\n",
              "      <td>9095.750000</td>\n",
              "    </tr>\n",
              "    <tr>\n",
              "      <th>3</th>\n",
              "      <td>fwd</td>\n",
              "      <td>convertible</td>\n",
              "      <td>11595.000000</td>\n",
              "    </tr>\n",
              "    <tr>\n",
              "      <th>4</th>\n",
              "      <td>fwd</td>\n",
              "      <td>hardtop</td>\n",
              "      <td>8249.000000</td>\n",
              "    </tr>\n",
              "    <tr>\n",
              "      <th>5</th>\n",
              "      <td>fwd</td>\n",
              "      <td>hatchback</td>\n",
              "      <td>8396.387755</td>\n",
              "    </tr>\n",
              "    <tr>\n",
              "      <th>6</th>\n",
              "      <td>fwd</td>\n",
              "      <td>sedan</td>\n",
              "      <td>9811.800000</td>\n",
              "    </tr>\n",
              "    <tr>\n",
              "      <th>7</th>\n",
              "      <td>fwd</td>\n",
              "      <td>wagon</td>\n",
              "      <td>9997.333333</td>\n",
              "    </tr>\n",
              "    <tr>\n",
              "      <th>8</th>\n",
              "      <td>rwd</td>\n",
              "      <td>convertible</td>\n",
              "      <td>23949.600000</td>\n",
              "    </tr>\n",
              "    <tr>\n",
              "      <th>9</th>\n",
              "      <td>rwd</td>\n",
              "      <td>hardtop</td>\n",
              "      <td>24202.714286</td>\n",
              "    </tr>\n",
              "    <tr>\n",
              "      <th>10</th>\n",
              "      <td>rwd</td>\n",
              "      <td>hatchback</td>\n",
              "      <td>14337.777778</td>\n",
              "    </tr>\n",
              "    <tr>\n",
              "      <th>11</th>\n",
              "      <td>rwd</td>\n",
              "      <td>sedan</td>\n",
              "      <td>21711.833333</td>\n",
              "    </tr>\n",
              "    <tr>\n",
              "      <th>12</th>\n",
              "      <td>rwd</td>\n",
              "      <td>wagon</td>\n",
              "      <td>16994.222222</td>\n",
              "    </tr>\n",
              "  </tbody>\n",
              "</table>\n",
              "</div>"
            ],
            "text/plain": [
              "   drive-wheels   body-style         price\n",
              "0           4wd    hatchback   7603.000000\n",
              "1           4wd        sedan  12647.333333\n",
              "2           4wd        wagon   9095.750000\n",
              "3           fwd  convertible  11595.000000\n",
              "4           fwd      hardtop   8249.000000\n",
              "5           fwd    hatchback   8396.387755\n",
              "6           fwd        sedan   9811.800000\n",
              "7           fwd        wagon   9997.333333\n",
              "8           rwd  convertible  23949.600000\n",
              "9           rwd      hardtop  24202.714286\n",
              "10          rwd    hatchback  14337.777778\n",
              "11          rwd        sedan  21711.833333\n",
              "12          rwd        wagon  16994.222222"
            ]
          },
          "metadata": {
            "tags": []
          },
          "execution_count": 69
        }
      ]
    },
    {
      "cell_type": "markdown",
      "metadata": {
        "id": "UkfT-4kXj3w3"
      },
      "source": [
        "### Pivot() method\n",
        "One variable displays along the column and other variable displayed along the rows"
      ]
    },
    {
      "cell_type": "code",
      "metadata": {
        "colab": {
          "base_uri": "https://localhost:8080/",
          "height": 204
        },
        "id": "JzX2QbFnPSHy",
        "outputId": "ec2bcbe7-50ca-49c6-bc70-31106f62c422"
      },
      "source": [
        "df_pivot=df_group.pivot(index='drive-wheels', columns=\"body-style\")\n",
        "df_pivot"
      ],
      "execution_count": 71,
      "outputs": [
        {
          "output_type": "execute_result",
          "data": {
            "text/html": [
              "<div>\n",
              "<style scoped>\n",
              "    .dataframe tbody tr th:only-of-type {\n",
              "        vertical-align: middle;\n",
              "    }\n",
              "\n",
              "    .dataframe tbody tr th {\n",
              "        vertical-align: top;\n",
              "    }\n",
              "\n",
              "    .dataframe thead tr th {\n",
              "        text-align: left;\n",
              "    }\n",
              "\n",
              "    .dataframe thead tr:last-of-type th {\n",
              "        text-align: right;\n",
              "    }\n",
              "</style>\n",
              "<table border=\"1\" class=\"dataframe\">\n",
              "  <thead>\n",
              "    <tr>\n",
              "      <th></th>\n",
              "      <th colspan=\"5\" halign=\"left\">price</th>\n",
              "    </tr>\n",
              "    <tr>\n",
              "      <th>body-style</th>\n",
              "      <th>convertible</th>\n",
              "      <th>hardtop</th>\n",
              "      <th>hatchback</th>\n",
              "      <th>sedan</th>\n",
              "      <th>wagon</th>\n",
              "    </tr>\n",
              "    <tr>\n",
              "      <th>drive-wheels</th>\n",
              "      <th></th>\n",
              "      <th></th>\n",
              "      <th></th>\n",
              "      <th></th>\n",
              "      <th></th>\n",
              "    </tr>\n",
              "  </thead>\n",
              "  <tbody>\n",
              "    <tr>\n",
              "      <th>4wd</th>\n",
              "      <td>NaN</td>\n",
              "      <td>NaN</td>\n",
              "      <td>7603.000000</td>\n",
              "      <td>12647.333333</td>\n",
              "      <td>9095.750000</td>\n",
              "    </tr>\n",
              "    <tr>\n",
              "      <th>fwd</th>\n",
              "      <td>11595.0</td>\n",
              "      <td>8249.000000</td>\n",
              "      <td>8396.387755</td>\n",
              "      <td>9811.800000</td>\n",
              "      <td>9997.333333</td>\n",
              "    </tr>\n",
              "    <tr>\n",
              "      <th>rwd</th>\n",
              "      <td>23949.6</td>\n",
              "      <td>24202.714286</td>\n",
              "      <td>14337.777778</td>\n",
              "      <td>21711.833333</td>\n",
              "      <td>16994.222222</td>\n",
              "    </tr>\n",
              "  </tbody>\n",
              "</table>\n",
              "</div>"
            ],
            "text/plain": [
              "                   price                ...                            \n",
              "body-style   convertible       hardtop  ...         sedan         wagon\n",
              "drive-wheels                            ...                            \n",
              "4wd                  NaN           NaN  ...  12647.333333   9095.750000\n",
              "fwd              11595.0   8249.000000  ...   9811.800000   9997.333333\n",
              "rwd              23949.6  24202.714286  ...  21711.833333  16994.222222\n",
              "\n",
              "[3 rows x 5 columns]"
            ]
          },
          "metadata": {
            "tags": []
          },
          "execution_count": 71
        }
      ]
    },
    {
      "cell_type": "markdown",
      "metadata": {
        "id": "BL90AA2iklFI"
      },
      "source": [
        "## Heatmap Plot\n",
        "-> Plot target variables over multiple variables"
      ]
    },
    {
      "cell_type": "code",
      "metadata": {
        "colab": {
          "base_uri": "https://localhost:8080/",
          "height": 269
        },
        "id": "GEpx6aw0PD6n",
        "outputId": "4d86180e-48fc-4767-eaeb-059783d34c55"
      },
      "source": [
        "plt.pcolor(df_pivot, cmap='RdBu')\n",
        "plt.colorbar()\n",
        "plt.show()"
      ],
      "execution_count": 74,
      "outputs": [
        {
          "output_type": "display_data",
          "data": {
            "image/png": "[encoded data removed]",
            "text/plain": [
              "<Figure size 432x288 with 2 Axes>"
            ]
          },
          "metadata": {
            "tags": []
          }
        }
      ]
    },
    {
      "cell_type": "markdown",
      "metadata": {
        "id": "lXzwlZhpmHWV"
      },
      "source": [
        "### CORRELATION\n",
        "-- Measures to what extent different variables are interdependent( if one variable changes how does it effect the another variable)\n",
        "\n",
        "eg:\n",
        " Smoking -> Lung Cancer\n",
        " Rain -> umbrella\n",
        " \n",
        " #### Correlatiion betn Engine-size and Price (to know whether there is  any impact on Price due to Engine Size\n",
        "\n",
        "\n",
        "\n",
        "\n"
      ]
    },
    {
      "cell_type": "code",
      "metadata": {
        "colab": {
          "base_uri": "https://localhost:8080/",
          "height": 296
        },
        "id": "0wnm4cIQlASF",
        "outputId": "c0f29ce9-6f0a-4ced-c7ef-d7bc5e109987"
      },
      "source": [
        "sns.regplot(x=\"engine-size\", y=\"price\", data=df)\n",
        "plt.ylim(0,)"
      ],
      "execution_count": 75,
      "outputs": [
        {
          "output_type": "execute_result",
          "data": {
            "text/plain": [
              "(0.0, 53221.224852278145)"
            ]
          },
          "metadata": {
            "tags": []
          },
          "execution_count": 75
        },
        {
          "output_type": "display_data",
          "data": {
            "image/png": "[encoded data removed]",
            "text/plain": [
              "<Figure size 432x288 with 1 Axes>"
            ]
          },
          "metadata": {
            "tags": []
          }
        }
      ]
    },
    {
      "cell_type": "markdown",
      "metadata": {
        "id": "XIl4EFJ8pjOY"
      },
      "source": [
        "##Result: \n",
        "###GOAL : \n",
        "Whether the engine-size has any impact to the price ?\n",
        "---------------------\n",
        "Result obtained: Straight line through the data point is va\\ery steep which shows there is a positive linear relationship between these two variables\n",
        "#####WITH the increase in value of Engine Size value of Price Go Up as well and the slope of the line is positive.So there is a  positive correlation between engine_size and Price."
      ]
    },
    {
      "cell_type": "code",
      "metadata": {
        "id": "Yaq4k-PtoMZg"
      },
      "source": [
        "#Conversion of object type to integer type\n",
        "df[\"highway-mpg\"]=df[\"highway-mpg\"].astype(int)"
      ],
      "execution_count": 78,
      "outputs": []
    },
    {
      "cell_type": "code",
      "metadata": {
        "colab": {
          "base_uri": "https://localhost:8080/",
          "height": 296
        },
        "id": "G8pyCIGAl73c",
        "outputId": "8e7d132e-d656-4c71-f623-5117a20511d8"
      },
      "source": [
        "#Another relationship between Highway Miles per gallon(highway-mpg) and  price\n",
        "sns.regplot(x=\"highway-mpg\", y=\"price\", data=df)\n",
        "plt.ylim(0,)\n",
        "\n"
      ],
      "execution_count": 79,
      "outputs": [
        {
          "output_type": "execute_result",
          "data": {
            "text/plain": [
              "(0.0, 48176.70631112798)"
            ]
          },
          "metadata": {
            "tags": []
          },
          "execution_count": 79
        },
        {
          "output_type": "display_data",
          "data": {
            "image/png": "[encoded data removed]",
            "text/plain": [
              "<Figure size 432x288 with 1 Axes>"
            ]
          },
          "metadata": {
            "tags": []
          }
        }
      ]
    },
    {
      "cell_type": "markdown",
      "metadata": {
        "id": "UURiD9RMpceX"
      },
      "source": [
        "##Result: Negative linear relationship between the highway-mpg and price \n",
        "\n",
        "#### When highway-mpg values goes up the price goes down therefore there is a negative linear relationship between highway-mpg and price.\n",
        "________________________________________\n",
        "Although this relationship is negative the slope of the line is steep\n",
        "which means that the highway miles per gallon is still a good predictor of price."
      ]
    },
    {
      "cell_type": "markdown",
      "metadata": {
        "id": "c7Ahbm4UpPBG"
      },
      "source": [
        "### Since Weak Correlation between Two features (peak_rpm and price) so we cannot use rpm to predict the values\n",
        "##### Since, both low peak RPM and high values of peak RPM have low and high prices.Therefore, we cannot use RPM to predict the values.\n"
      ]
    },
    {
      "cell_type": "code",
      "metadata": {
        "colab": {
          "base_uri": "https://localhost:8080/",
          "height": 296
        },
        "id": "q8NwbUWPpOIr",
        "outputId": "64329b98-2b37-4100-aced-2189f11cb732"
      },
      "source": [
        "#CONVERTING peak_rpm '?' values into '0' values\n",
        "df['peak-rpm'] = df['peak-rpm'].replace('?', 0)\n",
        "\n",
        "#displaying peak_rpm value\n",
        "df[\"peak-rpm\"]\n",
        "\n",
        "#converting object type into the int type value of peak_rpm\n",
        "df[\"peak-rpm\"]=df[\"peak-rpm\"].astype(int)\n",
        "\n",
        "sns.regplot(x=\"peak-rpm\", y=\"price\", data=df)\n",
        "plt.ylim(0,)"
      ],
      "execution_count": 88,
      "outputs": [
        {
          "output_type": "execute_result",
          "data": {
            "text/plain": [
              "(0.0, 47414.1)"
            ]
          },
          "metadata": {
            "tags": []
          },
          "execution_count": 88
        },
        {
          "output_type": "display_data",
          "data": {
            "image/png": "[encoded data removed]",
            "text/plain": [
              "<Figure size 432x288 with 1 Axes>"
            ]
          },
          "metadata": {
            "tags": []
          }
        }
      ]
    },
    {
      "cell_type": "markdown",
      "metadata": {
        "id": "2RG93qMItkQy"
      },
      "source": [
        "### PEARSON CORRELATION\n",
        "1. Measures the strength of the correlation between two features.\n",
        "\n",
        "*   correlation coefficient\n",
        "*   P-value\n",
        "\n",
        "##### * Correlation Coefficient\n",
        "* Close to +1: Large Positive relationship\n",
        "* Close to -1: Large Negative relationship\n",
        "* Close to 0: No relationship\n",
        "##### * P-value\n",
        "* P-value <0.001 Strong certainity in the result\n",
        "* P-value <0.5 Moderate certainity in the result\n",
        "* P-value <0.1 Weak certainty in the result\n",
        "*P-value >0.1 No certainty in the result\n",
        "\n",
        "\n",
        "#### Strong Correlation\n",
        "* Correlation Coefficient close to -1 or 1\n",
        "* P value less tha 0.001\n",
        "\n",
        "#### Correlation between horsepower and price\n",
        "* We can see that the correlation efficient is approximately.8, and this is close to 1.\n",
        "So there is a strong positive correlation. \n"
      ]
    },
    {
      "cell_type": "code",
      "metadata": {
        "colab": {
          "base_uri": "https://localhost:8080/"
        },
        "id": "mIDwvxpzl783",
        "outputId": "d67ceb7f-6fdd-4cb9-c0ed-21f5606a7500"
      },
      "source": [
        "import scipy.stats\n",
        "from scipy import stats, optimize, interpolate\n",
        "import scipy\n",
        "scipy.stats"
      ],
      "execution_count": 91,
      "outputs": [
        {
          "output_type": "execute_result",
          "data": {
            "text/plain": [
              "<module 'scipy.stats' from '/usr/local/lib/python3.7/dist-packages/scipy/stats/__init__.py'>"
            ]
          },
          "metadata": {
            "tags": []
          },
          "execution_count": 91
        }
      ]
    },
    {
      "cell_type": "code",
      "metadata": {
        "id": "t9C5CQVfwgcE"
      },
      "source": [
        "#Checking overll NAN values\n",
        "#df.isna().any()\n",
        "\n",
        "#CONVERTING horsepower's '?' values into '0' values\n",
        "df['horsepower'] = df['horsepower'].replace('?', 0)\n",
        "# df[\"horsepower\"]\n",
        "df[\"horsepower\"].fillna(0, inplace=True)\n",
        "\n",
        "#Checking the NAN values of column Price\n",
        "df[df['price'].isnull()]\n",
        "# df[\"price\"]\n",
        "\n",
        "#CONVERTING price's '?' values into '0' values\n",
        "df['price'] = df['price'].replace('?', 0)\n",
        "\n",
        "df[\"price\"].fillna(0, inplace=True)\n",
        "\n",
        "\n",
        "\n",
        "#converting horsepower object type to float type\n",
        "# df[\"horsepower\"]=df[\"horsepower\"].astype(float)\n",
        "# df[\"horsepower\"].dtypes\n",
        "\n",
        "pearson_coef, p_value = stats.pearsonr(df[\"horsepower\"],df[\"price\"])\n"
      ],
      "execution_count": 109,
      "outputs": []
    },
    {
      "cell_type": "code",
      "metadata": {
        "colab": {
          "base_uri": "https://localhost:8080/"
        },
        "id": "iHpp_fMZwghZ",
        "outputId": "febcf410-c788-4928-e84a-064e88d88e9b"
      },
      "source": [
        "pearson_coef"
      ],
      "execution_count": 112,
      "outputs": [
        {
          "output_type": "execute_result",
          "data": {
            "text/plain": [
              "0.6912878787942788"
            ]
          },
          "metadata": {
            "tags": []
          },
          "execution_count": 112
        }
      ]
    },
    {
      "cell_type": "code",
      "metadata": {
        "colab": {
          "base_uri": "https://localhost:8080/"
        },
        "id": "4bKNebHr0hRK",
        "outputId": "c8e18c0e-52f9-46be-abb4-481f34295d08"
      },
      "source": [
        "p_value"
      ],
      "execution_count": 113,
      "outputs": [
        {
          "output_type": "execute_result",
          "data": {
            "text/plain": [
              "1.8175735366187956e-30"
            ]
          },
          "metadata": {
            "tags": []
          },
          "execution_count": 113
        }
      ]
    },
    {
      "cell_type": "markdown",
      "metadata": {
        "id": "Q8rYMKI81Sl4"
      },
      "source": [
        "## Correlation Heatmap\n",
        "The color scheme indicates the Pearson correlation coefficient,\n",
        "indicating the strength of the correlation between two variables.\n",
        "We can see a diagonal line with a dark red color,\n",
        "indicating that all the values on this diagonal are highly correlated.\n",
        "This makes sense because when you look closer,\n",
        "the values on the diagonal are the correlation of all variables with themselves,\n",
        "which will be always 1.\n",
        "This correlation heatmap gives us a good overview\n",
        "of how the different variables are related to one another and,\n",
        "most importantly, how these variables are related to price."
      ]
    },
    {
      "cell_type": "code",
      "metadata": {
        "colab": {
          "base_uri": "https://localhost:8080/",
          "height": 354
        },
        "id": "anXRHSg31RfS",
        "outputId": "b2292647-1a36-43e4-8f43-b66a73b87e05"
      },
      "source": [
        "df.corr()"
      ],
      "execution_count": 117,
      "outputs": [
        {
          "output_type": "execute_result",
          "data": {
            "text/html": [
              "<div>\n",
              "<style scoped>\n",
              "    .dataframe tbody tr th:only-of-type {\n",
              "        vertical-align: middle;\n",
              "    }\n",
              "\n",
              "    .dataframe tbody tr th {\n",
              "        vertical-align: top;\n",
              "    }\n",
              "\n",
              "    .dataframe thead th {\n",
              "        text-align: right;\n",
              "    }\n",
              "</style>\n",
              "<table border=\"1\" class=\"dataframe\">\n",
              "  <thead>\n",
              "    <tr style=\"text-align: right;\">\n",
              "      <th></th>\n",
              "      <th>normalized-losses</th>\n",
              "      <th>engine-size</th>\n",
              "      <th>horsepower</th>\n",
              "      <th>peak-rpm</th>\n",
              "      <th>city-L/100km</th>\n",
              "      <th>highway-mpg</th>\n",
              "      <th>price</th>\n",
              "    </tr>\n",
              "  </thead>\n",
              "  <tbody>\n",
              "    <tr>\n",
              "      <th>normalized-losses</th>\n",
              "      <td>1.000000</td>\n",
              "      <td>-0.301343</td>\n",
              "      <td>-0.182771</td>\n",
              "      <td>0.240000</td>\n",
              "      <td>-0.205526</td>\n",
              "      <td>0.171033</td>\n",
              "      <td>-0.237939</td>\n",
              "    </tr>\n",
              "    <tr>\n",
              "      <th>engine-size</th>\n",
              "      <td>-0.301343</td>\n",
              "      <td>1.000000</td>\n",
              "      <td>0.781577</td>\n",
              "      <td>-0.176800</td>\n",
              "      <td>0.744952</td>\n",
              "      <td>-0.677470</td>\n",
              "      <td>0.838097</td>\n",
              "    </tr>\n",
              "    <tr>\n",
              "      <th>horsepower</th>\n",
              "      <td>-0.182771</td>\n",
              "      <td>0.781577</td>\n",
              "      <td>1.000000</td>\n",
              "      <td>0.269931</td>\n",
              "      <td>0.841073</td>\n",
              "      <td>-0.747013</td>\n",
              "      <td>0.691288</td>\n",
              "    </tr>\n",
              "    <tr>\n",
              "      <th>peak-rpm</th>\n",
              "      <td>0.240000</td>\n",
              "      <td>-0.176800</td>\n",
              "      <td>0.269931</td>\n",
              "      <td>1.000000</td>\n",
              "      <td>0.075315</td>\n",
              "      <td>-0.039868</td>\n",
              "      <td>-0.055278</td>\n",
              "    </tr>\n",
              "    <tr>\n",
              "      <th>city-L/100km</th>\n",
              "      <td>-0.205526</td>\n",
              "      <td>0.744952</td>\n",
              "      <td>0.841073</td>\n",
              "      <td>0.075315</td>\n",
              "      <td>1.000000</td>\n",
              "      <td>-0.928767</td>\n",
              "      <td>0.746992</td>\n",
              "    </tr>\n",
              "    <tr>\n",
              "      <th>highway-mpg</th>\n",
              "      <td>0.171033</td>\n",
              "      <td>-0.677470</td>\n",
              "      <td>-0.747013</td>\n",
              "      <td>-0.039868</td>\n",
              "      <td>-0.928767</td>\n",
              "      <td>1.000000</td>\n",
              "      <td>-0.687675</td>\n",
              "    </tr>\n",
              "    <tr>\n",
              "      <th>price</th>\n",
              "      <td>-0.237939</td>\n",
              "      <td>0.838097</td>\n",
              "      <td>0.691288</td>\n",
              "      <td>-0.055278</td>\n",
              "      <td>0.746992</td>\n",
              "      <td>-0.687675</td>\n",
              "      <td>1.000000</td>\n",
              "    </tr>\n",
              "  </tbody>\n",
              "</table>\n",
              "</div>"
            ],
            "text/plain": [
              "                   normalized-losses  engine-size  ...  highway-mpg     price\n",
              "normalized-losses           1.000000    -0.301343  ...     0.171033 -0.237939\n",
              "engine-size                -0.301343     1.000000  ...    -0.677470  0.838097\n",
              "horsepower                 -0.182771     0.781577  ...    -0.747013  0.691288\n",
              "peak-rpm                    0.240000    -0.176800  ...    -0.039868 -0.055278\n",
              "city-L/100km               -0.205526     0.744952  ...    -0.928767  0.746992\n",
              "highway-mpg                 0.171033    -0.677470  ...     1.000000 -0.687675\n",
              "price                      -0.237939     0.838097  ...    -0.687675  1.000000\n",
              "\n",
              "[7 rows x 7 columns]"
            ]
          },
          "metadata": {
            "tags": []
          },
          "execution_count": 117
        }
      ]
    },
    {
      "cell_type": "code",
      "metadata": {
        "colab": {
          "base_uri": "https://localhost:8080/",
          "height": 366
        },
        "id": "R7AhwsIm21U8",
        "outputId": "69096683-6945-430a-83a4-a4cb8f148e14"
      },
      "source": [
        "sns.heatmap(df.corr())"
      ],
      "execution_count": 118,
      "outputs": [
        {
          "output_type": "execute_result",
          "data": {
            "text/plain": [
              "<matplotlib.axes._subplots.AxesSubplot at 0x7f03c04a6fd0>"
            ]
          },
          "metadata": {
            "tags": []
          },
          "execution_count": 118
        },
        {
          "output_type": "display_data",
          "data": {
            "image/png": "[encoded data removed]",
            "text/plain": [
              "<Figure size 432x288 with 2 Axes>"
            ]
          },
          "metadata": {
            "tags": []
          }
        }
      ]
    },
    {
      "cell_type": "markdown",
      "metadata": {
        "id": "ERLOD6Xs3wTB"
      },
      "source": [
        "## Analysis of Variance- ANOVA"
      ]
    },
    {
      "cell_type": "code",
      "metadata": {
        "colab": {
          "base_uri": "https://localhost:8080/"
        },
        "id": "Q2ExL98K1Rmz",
        "outputId": "cf10ea58-79f2-42f7-e685-37eab779a0d2"
      },
      "source": [
        "# Analysis of Variance- ANOVA\n",
        "# returns f-test and p-value\n",
        "# f-test = variance between sample group means divided by \n",
        "# variation within sample group\n",
        "# p-value = confidence degree\n",
        "data_annova = df[['make', 'price']]\n",
        "grouped_annova = data_annova.groupby(['make'])\n",
        "annova_results_l = scipy.stats.f_oneway(\n",
        "                             grouped_annova.get_group('honda')['price'],\n",
        "                             grouped_annova.get_group('subaru')['price']\n",
        "                                    )\n",
        "print(annova_results_l)\n",
        "# strong corealtion between a categorical variable\n",
        "# if annova test gives large f-test and small p-value"
      ],
      "execution_count": 116,
      "outputs": [
        {
          "output_type": "stream",
          "text": [
            "F_onewayResult(statistic=0.19744030127462606, pvalue=0.6609478240622193)\n"
          ],
          "name": "stdout"
        }
      ]
    },
    {
      "cell_type": "code",
      "metadata": {
        "id": "ag7ZzeVv22s_"
      },
      "source": [
        ""
      ],
      "execution_count": null,
      "outputs": []
    },
    {
      "cell_type": "code",
      "metadata": {
        "id": "gLGWt1SU1RuK"
      },
      "source": [
        ""
      ],
      "execution_count": null,
      "outputs": []
    }
  ]
}